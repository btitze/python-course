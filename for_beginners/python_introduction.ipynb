{
 "cells": [
  {
   "cell_type": "markdown",
   "metadata": {},
   "source": [
    "## Hello, World!"
   ]
  },
  {
   "cell_type": "code",
   "execution_count": null,
   "metadata": {},
   "outputs": [],
   "source": [
    "# This is the print function. It displays text on the screen.\n",
    "# This line and the line above are comments. They begin with # and are not executed.\n",
    "print('Hello, World!')"
   ]
  },
  {
   "cell_type": "code",
   "execution_count": null,
   "metadata": {},
   "outputs": [],
   "source": [
    "# Use print('Text', end='') to keep the cursor on the same line:\n",
    "print('Hello, ', end='')\n",
    "# You can use either single or double quotation marks:\n",
    "print(\"World!\")\n",
    "print(\"Let's use Python!\")"
   ]
  },
  {
   "cell_type": "code",
   "execution_count": null,
   "metadata": {},
   "outputs": [],
   "source": [
    "print('This is a number: ', 392748372)"
   ]
  },
  {
   "cell_type": "code",
   "execution_count": null,
   "metadata": {},
   "outputs": [],
   "source": [
    "# Works with any script because Python uses Unicode by default:\n",
    "print('你好世界！')"
   ]
  },
  {
   "cell_type": "code",
   "execution_count": null,
   "metadata": {},
   "outputs": [],
   "source": [
    "# Get help about any function or object with help()\n",
    "help(print)"
   ]
  },
  {
   "cell_type": "markdown",
   "metadata": {},
   "source": [
    "## Variables and datatypes"
   ]
  },
  {
   "cell_type": "code",
   "execution_count": null,
   "metadata": {},
   "outputs": [],
   "source": [
    "# Numbers (integers and floats), strings (of characters), booleans (truth values) are stored in variables.\n",
    "# You can assign values directly, no prior declaration is necessary.\n",
    "my_number = 53\n",
    "golden_ratio = 1.61803398875\n",
    "name = 'Friedrich'\n",
    "letter = 'g'\n",
    "first_option = True\n",
    "second_option = False"
   ]
  },
  {
   "cell_type": "code",
   "execution_count": null,
   "metadata": {},
   "outputs": [],
   "source": [
    "# In a Jupyter Notebook, the last statement in a cell is displayed automatically:\n",
    "golden_ratio"
   ]
  },
  {
   "cell_type": "code",
   "execution_count": null,
   "metadata": {},
   "outputs": [],
   "source": [
    "name"
   ]
  },
  {
   "cell_type": "code",
   "execution_count": null,
   "metadata": {},
   "outputs": [],
   "source": [
    "# What is the type of a given object? Use type()\n",
    "type(golden_ratio)"
   ]
  },
  {
   "cell_type": "markdown",
   "metadata": {},
   "source": [
    "## Lists"
   ]
  },
  {
   "cell_type": "code",
   "execution_count": null,
   "metadata": {},
   "outputs": [],
   "source": [
    "# We can put different objects into a list\n",
    "my_list = [12, 'a string', 234, 53.23, False]\n",
    "print(my_list)\n",
    "# List elements can be of the same type or different types\n",
    "some_numbers = [1.2, 5.4, -2.3, 0.77]\n",
    "print(some_numbers)"
   ]
  },
  {
   "cell_type": "code",
   "execution_count": null,
   "metadata": {},
   "outputs": [],
   "source": [
    "# Extending a list\n",
    "new_list = my_list + ['hello']\n",
    "new_list\n",
    "# Try new_list.extend(['x', 'y', 'z'])"
   ]
  },
  {
   "cell_type": "code",
   "execution_count": null,
   "metadata": {},
   "outputs": [],
   "source": [
    "# Append to a list:\n",
    "another_list = []   # empty list\n",
    "another_list.append(5)\n",
    "another_list.append(6)\n",
    "another_list"
   ]
  },
  {
   "cell_type": "code",
   "execution_count": null,
   "metadata": {},
   "outputs": [],
   "source": [
    "# A list of squares. We can calculate the list elements when initializing the list.\n",
    "squares = [0*0, 1*1, 2*2, 3*3, 4*4, 5*5, 6*6, 7*7, 8*8, 9*9]\n",
    "# Note: This can also be done with 'list comprehension' (not part of the beginner's course):\n",
    "squares = [x*x for x in range(10)]\n",
    "print(squares)"
   ]
  },
  {
   "cell_type": "code",
   "execution_count": null,
   "metadata": {},
   "outputs": [],
   "source": [
    "# Access a single element in a list with an index (zero-based counting: 0, 1, 2, ...)\n",
    "squares[3]"
   ]
  },
  {
   "cell_type": "code",
   "execution_count": null,
   "metadata": {},
   "outputs": [],
   "source": [
    "# Access the last element:\n",
    "squares[-1]"
   ]
  },
  {
   "cell_type": "code",
   "execution_count": null,
   "metadata": {},
   "outputs": [],
   "source": [
    "# Slicing with [start:end] returns all elements between start and end, but end is not included.\n",
    "squares[2:5]"
   ]
  },
  {
   "cell_type": "code",
   "execution_count": null,
   "metadata": {},
   "outputs": [],
   "source": [
    "# You can also provide a step size: [start:end:step]\n",
    "squares[2:9:3]     # Returns all elements from index 2 until 8 (9 is not included) with a step size of 3"
   ]
  },
  {
   "cell_type": "code",
   "execution_count": null,
   "metadata": {},
   "outputs": [],
   "source": [
    "# If you don't provide start and end, it means 'all elements': [:]\n",
    "squares[:]   # the same as 'squares' without square brackets, so you would usually not use squares[:]"
   ]
  },
  {
   "cell_type": "code",
   "execution_count": null,
   "metadata": {},
   "outputs": [],
   "source": [
    "# Every other element:\n",
    "squares[::2]"
   ]
  },
  {
   "cell_type": "code",
   "execution_count": null,
   "metadata": {},
   "outputs": [],
   "source": [
    "# Get the reverse of a list (use step size -1 over all elements)\n",
    "squares[::-1]"
   ]
  },
  {
   "cell_type": "code",
   "execution_count": null,
   "metadata": {},
   "outputs": [],
   "source": [
    "# Replacing an element:\n",
    "my_list[0] = 'another string'\n",
    "my_list"
   ]
  },
  {
   "cell_type": "code",
   "execution_count": null,
   "metadata": {},
   "outputs": [],
   "source": [
    "# Delete an element:\n",
    "del(my_list[1])   # delete element at index 1\n",
    "my_list\n",
    "# Remove by value:\n",
    "my_list.remove(234)\n",
    "my_list"
   ]
  },
  {
   "cell_type": "code",
   "execution_count": null,
   "metadata": {},
   "outputs": [],
   "source": [
    "# Sorting a list\n",
    "fruit_list =['banana', 'strawberry', 'pineapple', 'apple']\n",
    "# Show original list\n",
    "print(fruit_list)\n",
    "fruit_list.sort()\n",
    "# Show sorted list\n",
    "print(fruit_list)"
   ]
  },
  {
   "cell_type": "markdown",
   "metadata": {},
   "source": [
    "## Get user input"
   ]
  },
  {
   "cell_type": "code",
   "execution_count": null,
   "metadata": {},
   "outputs": [],
   "source": [
    "user_name = input('What is your name? ')\n",
    "print('Hello, ', user_name)"
   ]
  },
  {
   "cell_type": "code",
   "execution_count": null,
   "metadata": {},
   "outputs": [],
   "source": [
    "age = input('What is your age? ')\n",
    "age   # This is a string!"
   ]
  },
  {
   "cell_type": "code",
   "execution_count": null,
   "metadata": {},
   "outputs": [],
   "source": [
    "# You can convert between datatypes like this:\n",
    "a = int('33')\n",
    "b = float(2)\n",
    "print(a)\n",
    "print(b)"
   ]
  },
  {
   "cell_type": "code",
   "execution_count": null,
   "metadata": {},
   "outputs": [],
   "source": [
    "age = int(input('What is your age? '))  # Converts the user's input to an integer.\n",
    "age   # Now, it's an integer\n",
    "# Note that there is no error handling here: If the user types in letters, for example, they cannot be\n",
    "# converted to an integer, and there will be an error."
   ]
  },
  {
   "cell_type": "markdown",
   "metadata": {},
   "source": [
    "## Operators"
   ]
  },
  {
   "cell_type": "code",
   "execution_count": null,
   "metadata": {},
   "outputs": [],
   "source": [
    "# Python as a powerful calculator (note that ** is used for 'to the power of (^)')\n",
    "2**54 + 42.35 / (352 - 434)"
   ]
  },
  {
   "cell_type": "code",
   "execution_count": null,
   "metadata": {},
   "outputs": [],
   "source": [
    "# Very nice feature: integer variables can store arbitrarily long numbers!\n",
    "23**56"
   ]
  },
  {
   "cell_type": "code",
   "execution_count": null,
   "metadata": {},
   "outputs": [],
   "source": [
    "# with variables:\n",
    "my_number * (my_number + 24)"
   ]
  },
  {
   "cell_type": "code",
   "execution_count": null,
   "metadata": {},
   "outputs": [],
   "source": [
    "# You can add strings\n",
    "'hello' + ' ' + 'world'"
   ]
  },
  {
   "cell_type": "code",
   "execution_count": null,
   "metadata": {},
   "outputs": [],
   "source": [
    "print(golden_ratio)\n",
    "print(name + ' Miescher')"
   ]
  },
  {
   "cell_type": "code",
   "execution_count": null,
   "metadata": {},
   "outputs": [],
   "source": [
    "# 'variable += x' is the same as 'variable = variable + 1' \n",
    "x = 2\n",
    "x += 1\n",
    "x"
   ]
  },
  {
   "cell_type": "code",
   "execution_count": null,
   "metadata": {},
   "outputs": [],
   "source": [
    "# Modulus (computes the remainder of a division; useful to check if a number is even or odd)\n",
    "7 % 2"
   ]
  },
  {
   "cell_type": "code",
   "execution_count": null,
   "metadata": {},
   "outputs": [],
   "source": [
    "# Logical operators:\n",
    "True or False"
   ]
  },
  {
   "cell_type": "code",
   "execution_count": null,
   "metadata": {},
   "outputs": [],
   "source": [
    "100 < 99"
   ]
  },
  {
   "cell_type": "code",
   "execution_count": null,
   "metadata": {},
   "outputs": [],
   "source": [
    "45 == 45"
   ]
  },
  {
   "cell_type": "code",
   "execution_count": null,
   "metadata": {},
   "outputs": [],
   "source": [
    "'hello' != 'Hello'"
   ]
  },
  {
   "cell_type": "code",
   "execution_count": null,
   "metadata": {},
   "outputs": [],
   "source": [
    "(23 == 3) and (0 == 0)"
   ]
  },
  {
   "cell_type": "code",
   "execution_count": null,
   "metadata": {},
   "outputs": [],
   "source": [
    "# Test membership\n",
    "3 in [3, 4, 5]"
   ]
  },
  {
   "cell_type": "code",
   "execution_count": null,
   "metadata": {},
   "outputs": [],
   "source": [
    "'w' not in ['k', 'w', 'f', 'l']"
   ]
  },
  {
   "cell_type": "code",
   "execution_count": null,
   "metadata": {},
   "outputs": [],
   "source": [
    "not True"
   ]
  },
  {
   "cell_type": "markdown",
   "metadata": {},
   "source": [
    "## Printing formatted strings"
   ]
  },
  {
   "cell_type": "code",
   "execution_count": null,
   "metadata": {},
   "outputs": [],
   "source": [
    "# Powerful new feature in Python 3.6: f-strings\n",
    "name = 'Léon'\n",
    "age = 28\n",
    "print(f'His name is {name} and he is {age} years old.')"
   ]
  },
  {
   "cell_type": "code",
   "execution_count": null,
   "metadata": {},
   "outputs": [],
   "source": [
    "print(f'We can calculate inside strings: 35234/1197 = {35234/1197}')"
   ]
  },
  {
   "cell_type": "code",
   "execution_count": null,
   "metadata": {},
   "outputs": [],
   "source": [
    "# Display a float with a specified number of decimal digits\n",
    "my_float = 3.14159\n",
    "print(f'Pi with two decimal digits: {my_float:.2f}')"
   ]
  },
  {
   "cell_type": "markdown",
   "metadata": {},
   "source": [
    "## Working with strings"
   ]
  },
  {
   "cell_type": "code",
   "execution_count": null,
   "metadata": {},
   "outputs": [],
   "source": [
    "# How long is a given string?\n",
    "len('Python')"
   ]
  },
  {
   "cell_type": "code",
   "execution_count": null,
   "metadata": {},
   "outputs": [],
   "source": [
    "# Get a single character (Note: indices in Python always start with 0!)\n",
    "word = 'microscopy'\n",
    "word[3]"
   ]
  },
  {
   "cell_type": "code",
   "execution_count": null,
   "metadata": {},
   "outputs": [],
   "source": [
    "# Slicing\n",
    "word[0:3]"
   ]
  },
  {
   "cell_type": "code",
   "execution_count": null,
   "metadata": {},
   "outputs": [],
   "source": [
    "word.upper()"
   ]
  },
  {
   "cell_type": "code",
   "execution_count": null,
   "metadata": {},
   "outputs": [],
   "source": [
    "# Find the index position of a substring\n",
    "word.find('os')"
   ]
  },
  {
   "cell_type": "code",
   "execution_count": null,
   "metadata": {},
   "outputs": [],
   "source": [
    "word.find('image')  # returns -1 if not found"
   ]
  },
  {
   "cell_type": "code",
   "execution_count": null,
   "metadata": {},
   "outputs": [],
   "source": [
    "my_string = 'Friedrich Miescher'\n",
    "my_string.split(' ')"
   ]
  },
  {
   "cell_type": "code",
   "execution_count": null,
   "metadata": {},
   "outputs": [],
   "source": [
    "# What else can we do with a string?\n",
    "dir(word)"
   ]
  },
  {
   "cell_type": "markdown",
   "metadata": {},
   "source": [
    "## Conditional statements (if, elif, else)"
   ]
  },
  {
   "cell_type": "code",
   "execution_count": null,
   "metadata": {},
   "outputs": [],
   "source": [
    "# The indented code block after the if statement is executed if the statement evaluates to 'True' \n",
    "# Otherwise, the code block after 'else' is executed.\n",
    "# Python uses indentation to define code blocks. Most common indentation is four spaces.\n",
    "sunshine = True\n",
    "if sunshine:\n",
    "    print(\"Let's go to the beach!\")\n",
    "    # ...\n",
    "    # addition code to be executed\n",
    "    # ...\n",
    "else:\n",
    "    print(\"Let's watch a movie at home!\")\n",
    "    \n",
    "# Change 'sunshine' to 'False'!"
   ]
  },
  {
   "cell_type": "code",
   "execution_count": null,
   "metadata": {},
   "outputs": [],
   "source": [
    "# You must always put at least one statement into a block! \n",
    "# 'pass' can be used as a placeholder. It does nothing.\n",
    "letter = 'A'\n",
    "if letter == 'B':\n",
    "    pass"
   ]
  },
  {
   "cell_type": "code",
   "execution_count": null,
   "metadata": {},
   "outputs": [],
   "source": [
    "age = 17\n",
    "if age >= 18:\n",
    "    print('You are allowed to drive a car.')\n",
    "else:\n",
    "    print(\"Sorry, you're not old enough.\")"
   ]
  },
  {
   "cell_type": "code",
   "execution_count": null,
   "metadata": {},
   "outputs": [],
   "source": [
    "# Always use two equal signs ('==') to compare elements (test for equality):\n",
    "letter = 'B'\n",
    "if letter == 'B':\n",
    "    print('The letter is B.')"
   ]
  },
  {
   "cell_type": "code",
   "execution_count": null,
   "metadata": {},
   "outputs": [],
   "source": [
    "# You can combine else with an additional condition: 'else if' -> 'elif'\n",
    "# To understand this concept, change the True/False values for the following two variables and see what happens.\n",
    "\n",
    "hotel_room_is_clean = False\n",
    "hotel_room_is_comfortable = True\n",
    "\n",
    "if hotel_room_is_clean and hotel_room_is_comfortable:\n",
    "    print('Excellent!')\n",
    "elif hotel_room_is_clean:\n",
    "    print(\"At least it's clean.\")\n",
    "elif hotel_room_is_comfortable:\n",
    "    print(\"At least it's comfortable.\")\n",
    "else:\n",
    "    print('Poor you.')"
   ]
  },
  {
   "cell_type": "markdown",
   "metadata": {},
   "source": [
    "## Loops: The 'for' loop"
   ]
  },
  {
   "cell_type": "code",
   "execution_count": null,
   "metadata": {},
   "outputs": [],
   "source": [
    "# First, we need to get to know the Python range()\n",
    "# range(0, 5) goes from 0 to 4: 0, 1, 2, 3, 4\n",
    "# range(5) does the same. The first 0 can be omitted.\n",
    "# range(2, 13, 2) goes from 2 until 12 in steps of 2: 2, 4, 6, 8, 10, 12\n",
    "# range(10, 5, -1): 10, 9, 8, 7, 6"
   ]
  },
  {
   "cell_type": "code",
   "execution_count": null,
   "metadata": {},
   "outputs": [],
   "source": [
    "# Try different ranges for the following loops\n",
    "for i in range(10):\n",
    "    print(i)"
   ]
  },
  {
   "cell_type": "code",
   "execution_count": null,
   "metadata": {},
   "outputs": [],
   "source": [
    "for i in range(10, 5, -1):\n",
    "    print(i)"
   ]
  },
  {
   "cell_type": "code",
   "execution_count": null,
   "metadata": {},
   "outputs": [],
   "source": [
    "# A simple multiplication table\n",
    "# Here we use two nested for loops. The inner loop (over j) is called repeatedly for different values of i\n",
    "for i in range(1, 6):\n",
    "    for j in range(1, 6):\n",
    "        print(f'{i} x {j} = {i * j}')"
   ]
  },
  {
   "cell_type": "code",
   "execution_count": null,
   "metadata": {},
   "outputs": [],
   "source": [
    "# You can also iterate over list elements\n",
    "my_animals = ['dog', 'elephant', 'cat', 'mouse', 'owl', 'bird']\n",
    "for animal in my_animals:\n",
    "    print(animal)"
   ]
  },
  {
   "cell_type": "code",
   "execution_count": null,
   "metadata": {},
   "outputs": [],
   "source": [
    "# ... or over characters in a string\n",
    "my_string = 'hello'\n",
    "for letter in my_string:\n",
    "    print(letter)"
   ]
  },
  {
   "cell_type": "markdown",
   "metadata": {},
   "source": [
    "## The 'while' loop"
   ]
  },
  {
   "cell_type": "code",
   "execution_count": null,
   "metadata": {},
   "outputs": [],
   "source": [
    "# The 'while loop' runs as long as the loop condition is 'True'.\n",
    "# Careful: this can lead to infinite loops if the condition is never 'False'!\n",
    "i = 0\n",
    "while (i < 7):\n",
    "    print(i)\n",
    "    i += 1\n",
    "    \n",
    "# If you forget to increase i by 1 (i += 1) in each loop cycle, the loop will never end."
   ]
  },
  {
   "cell_type": "code",
   "execution_count": null,
   "metadata": {},
   "outputs": [],
   "source": [
    "user_input = ''\n",
    "while user_input != '55':\n",
    "    print('Hi there')\n",
    "    user_input = input('Type 55 to stop: ')"
   ]
  },
  {
   "cell_type": "code",
   "execution_count": null,
   "metadata": {},
   "outputs": [],
   "source": [
    "# 'break' and 'continue' can be used for both 'while' and 'for' loops.\n",
    "# 'break' leaves the loop immediately.\n",
    "# 'continue' jumps directly to the next iteration.\n",
    "\n",
    "i = 0\n",
    "while i < 100:\n",
    "    i += 1\n",
    "    # If i is even, go directly to the next value of i\n",
    "    if i % 2 == 0:\n",
    "        continue\n",
    "    print(i)\n",
    "    if i > 20: # If i is larger than 20, leave the loop.\n",
    "        break"
   ]
  },
  {
   "cell_type": "markdown",
   "metadata": {},
   "source": [
    "## Functions"
   ]
  },
  {
   "cell_type": "code",
   "execution_count": null,
   "metadata": {},
   "outputs": [],
   "source": [
    "# Functions are blocks of code that you can call from anywhere in your program.\n",
    "# A function can have parameters, and it can return one or many results\n",
    "\n",
    "# This simple function takes no parameters and returns nothing. It only prints 'hello'.\n",
    "def print_hello():\n",
    "    print('hello')"
   ]
  },
  {
   "cell_type": "code",
   "execution_count": null,
   "metadata": {},
   "outputs": [],
   "source": [
    "print_hello()"
   ]
  },
  {
   "cell_type": "code",
   "execution_count": null,
   "metadata": {},
   "outputs": [],
   "source": [
    "# This function takes one parameter.\n",
    "def say_hello(name):\n",
    "    print(f'Hello, {name}!')\n",
    "    \n",
    "say_hello('Sarah')\n",
    "say_hello('Susan')\n",
    "say_hello('Sophie')"
   ]
  },
  {
   "cell_type": "code",
   "execution_count": null,
   "metadata": {},
   "outputs": [],
   "source": [
    "# If we wish to reuse existing code with parameters, we can use a function.\n",
    "# For example, our simple multiplication table with two parameters\n",
    "\n",
    "def multiplication_table(i_max, j_max):\n",
    "    # Simple multiplication table\n",
    "    for i in range(1, i_max + 1):  # we need to add 1 because i_max would not be included otherwise\n",
    "        for j in range(1, j_max + 1):\n",
    "            print(f'{i} x {j} = {i * j}')"
   ]
  },
  {
   "cell_type": "code",
   "execution_count": null,
   "metadata": {},
   "outputs": [],
   "source": [
    "multiplication_table(2, 5)\n",
    "# multiplication_table(i_max=2, j_max=5) also works (may be more readable)"
   ]
  },
  {
   "cell_type": "code",
   "execution_count": null,
   "metadata": {},
   "outputs": [],
   "source": [
    "# This function takes a parameter and returns a value\n",
    "def double(anything):\n",
    "    return 2 * anything\n",
    "\n",
    "double('hello')"
   ]
  },
  {
   "cell_type": "code",
   "execution_count": null,
   "metadata": {},
   "outputs": [],
   "source": [
    "def convert_to_celsius(fahrenheit):\n",
    "    celsius = (fahrenheit - 32) * 5/9\n",
    "    return celsius\n",
    "\n",
    "# Even shorter: We could return the calculated value directly:\n",
    "def convert_to_celsius(fahrenheit):\n",
    "    return (fahrenheit - 32) * 5/9"
   ]
  },
  {
   "cell_type": "code",
   "execution_count": null,
   "metadata": {},
   "outputs": [],
   "source": [
    "convert_to_celsius(86)"
   ]
  },
  {
   "cell_type": "code",
   "execution_count": null,
   "metadata": {},
   "outputs": [],
   "source": [
    "# We can use the following function to check if a given string is a palindrome.\n",
    "def is_palindrome(input_string):\n",
    "    # Make the string lowercase\n",
    "    input_string = input_string.lower()\n",
    "    # input_string[::-1] is the reverse of the string (achieved through slicing)\n",
    "    return input_string == input_string[::-1]\n",
    "\n",
    "is_palindrome('Otto')"
   ]
  },
  {
   "cell_type": "code",
   "execution_count": null,
   "metadata": {},
   "outputs": [],
   "source": [
    "def is_right_angled_triangle(a, b, c):\n",
    "    return a*a + b*b == c*c\n",
    "\n",
    "is_right_angled_triangle(3, 4, 5)"
   ]
  },
  {
   "cell_type": "code",
   "execution_count": null,
   "metadata": {},
   "outputs": [],
   "source": [
    "# Variable scopes\n",
    "# Note that variables inside a function are not visible/usable outside the function.\n",
    "\n",
    "def my_function(number):\n",
    "    factor = 34\n",
    "    return factor * number\n",
    "\n",
    "print(my_function(2))\n",
    "# The following will raise an error because factor is only visible inside the my_function, and not at\n",
    "# the top level of this script.\n",
    "print(factor)"
   ]
  },
  {
   "cell_type": "code",
   "execution_count": null,
   "metadata": {},
   "outputs": [],
   "source": [
    "# On the other hand, if you define a variable at the top level of your notebook/code file, it will be\n",
    "# visible everywhere, including inside functions\n",
    "\n",
    "my_number = 45\n",
    "\n",
    "def my_function():\n",
    "    print(my_number)\n",
    "    \n",
    "my_function()\n",
    "\n",
    "# It is usually best to avoid this unless there is a specific reason why you need it (global settings)"
   ]
  },
  {
   "cell_type": "code",
   "execution_count": null,
   "metadata": {},
   "outputs": [],
   "source": [
    "# If you need a number as input to do something in my_function(), pass that number to the function, like this:\n",
    "\n",
    "my_number = 45\n",
    "\n",
    "def my_function(number):\n",
    "    print(number)\n",
    "    \n",
    "my_function(my_number)"
   ]
  },
  {
   "cell_type": "markdown",
   "metadata": {},
   "source": [
    "## Importing modules"
   ]
  },
  {
   "cell_type": "code",
   "execution_count": null,
   "metadata": {},
   "outputs": [],
   "source": [
    "# The module math offers various mathematical functions\n",
    "import math\n",
    "\n",
    "print(math.sin(34))\n",
    "print(math.pi)\n",
    "print(math.sqrt(3))"
   ]
  },
  {
   "cell_type": "code",
   "execution_count": null,
   "metadata": {},
   "outputs": [],
   "source": [
    "# If you use the following syntax, you can import specific functions and then use\n",
    "# them inside your code without the math. prefix.\n",
    "from math import sin, cos, sqrt, pi\n",
    "\n",
    "sin(34 + sqrt(3)) * cos(3 - pi)"
   ]
  },
  {
   "cell_type": "code",
   "execution_count": null,
   "metadata": {},
   "outputs": [],
   "source": [
    "from datetime import datetime\n",
    "\n",
    "# Get the current date and time\n",
    "now = datetime.now()\n",
    "print(now)\n",
    "print(now.year)\n",
    "print(now.minute)\n",
    "# What else can we do with this object?\n",
    "dir(datetime)"
   ]
  },
  {
   "cell_type": "code",
   "execution_count": null,
   "metadata": {},
   "outputs": [],
   "source": [
    "from time import sleep\n",
    "print('Now sleeping...')\n",
    "sleep(5)   # Program will wait for 5 seconds.\n",
    "print('Done!')"
   ]
  },
  {
   "cell_type": "code",
   "execution_count": null,
   "metadata": {},
   "outputs": [],
   "source": [
    "# Easter eggs\n",
    "import this"
   ]
  },
  {
   "cell_type": "code",
   "execution_count": null,
   "metadata": {},
   "outputs": [],
   "source": [
    "# ... another one :)\n",
    "import antigravity"
   ]
  },
  {
   "cell_type": "markdown",
   "metadata": {},
   "source": [
    "\n",
    "## Extras (not part of this beginners' course): Dictionaries, tuples, complex numbers"
   ]
  },
  {
   "cell_type": "code",
   "execution_count": null,
   "metadata": {},
   "outputs": [],
   "source": [
    "# Dictionaries are very useful and fast (compared to lists)\n",
    "# Empty dictionary:\n",
    "my_dict = {}\n",
    "# Set a key to a value\n",
    "my_dict['price'] = 243.3\n",
    "my_dict"
   ]
  },
  {
   "cell_type": "code",
   "execution_count": null,
   "metadata": {},
   "outputs": [],
   "source": [
    "# Initialize with several entries:\n",
    "my_dict = {'price': 32.0, 'height': 0.3, 'width': 0.7}\n",
    "my_dict"
   ]
  },
  {
   "cell_type": "code",
   "execution_count": null,
   "metadata": {},
   "outputs": [],
   "source": [
    "# Iterate over the key-value pairs with a for loop\n",
    "for key, value in my_dict.items():\n",
    "    print(key, value)"
   ]
  },
  {
   "cell_type": "code",
   "execution_count": null,
   "metadata": {},
   "outputs": [],
   "source": [
    "for key in my_dict:\n",
    "    print(key)"
   ]
  },
  {
   "cell_type": "code",
   "execution_count": null,
   "metadata": {},
   "outputs": [],
   "source": [
    "for value in my_dict.values():\n",
    "    print(value)"
   ]
  },
  {
   "cell_type": "code",
   "execution_count": null,
   "metadata": {},
   "outputs": [],
   "source": [
    "del my_dict['price']\n",
    "my_dict"
   ]
  },
  {
   "cell_type": "code",
   "execution_count": null,
   "metadata": {},
   "outputs": [],
   "source": [
    "# Tuples:\n",
    "a = 3, 4\n",
    "b = 'test', 'this', 'tuple'\n",
    "b"
   ]
  },
  {
   "cell_type": "code",
   "execution_count": null,
   "metadata": {},
   "outputs": [],
   "source": [
    "b[1]"
   ]
  },
  {
   "cell_type": "code",
   "execution_count": null,
   "metadata": {},
   "outputs": [],
   "source": [
    "# Tuples are immutable. The following will raise an error.\n",
    "b[1] = 'that'"
   ]
  },
  {
   "cell_type": "code",
   "execution_count": null,
   "metadata": {},
   "outputs": [],
   "source": [
    "# Python offers this shortcut for swapping variables\n",
    "a = 5\n",
    "b = 10\n",
    "a, b = b, a\n",
    "a"
   ]
  },
  {
   "cell_type": "code",
   "execution_count": null,
   "metadata": {},
   "outputs": [],
   "source": [
    "# You can work with complex numbers in Python\n",
    "import cmath\n",
    "# Set a complex number with complex(real_part, imaginary_part)\n",
    "z = complex(-1, 0)\n",
    "# Square root of -1. The result is i, but shown as 1j in Python\n",
    "cmath.sqrt(z)"
   ]
  },
  {
   "cell_type": "code",
   "execution_count": null,
   "metadata": {},
   "outputs": [],
   "source": [
    "w = complex (3, 2)\n",
    "w"
   ]
  },
  {
   "cell_type": "code",
   "execution_count": null,
   "metadata": {},
   "outputs": [],
   "source": [
    "u = complex(4, -2)\n",
    "z = cmath.sin(u) * (u + cmath.sqrt(w))\n",
    "z"
   ]
  },
  {
   "cell_type": "code",
   "execution_count": null,
   "metadata": {},
   "outputs": [],
   "source": []
  },
  {
   "cell_type": "code",
   "execution_count": null,
   "metadata": {},
   "outputs": [],
   "source": []
  }
 ],
 "metadata": {
  "kernelspec": {
   "display_name": "Python 3",
   "language": "python",
   "name": "python3"
  },
  "language_info": {
   "codemirror_mode": {
    "name": "ipython",
    "version": 3
   },
   "file_extension": ".py",
   "mimetype": "text/x-python",
   "name": "python",
   "nbconvert_exporter": "python",
   "pygments_lexer": "ipython3",
   "version": "3.7.3"
  }
 },
 "nbformat": 4,
 "nbformat_minor": 2
}
