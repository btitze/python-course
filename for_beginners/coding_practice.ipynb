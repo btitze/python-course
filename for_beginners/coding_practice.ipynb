{
 "cells": [
  {
   "cell_type": "code",
   "execution_count": null,
   "metadata": {},
   "outputs": [],
   "source": [
    "# This is the \"Guess a Number\" game that we developed together in the coding practice session. \n",
    "# It makes use of the basic concepts covered in the beginners' course.\n",
    "\n",
    "# (Try to put it into a function, so that you can start the game by calling the function with parameters min_number,\n",
    "# max_number, and max_number_of_attempts.)\n",
    "\n",
    "# We need to import a module to generate random numbers\n",
    "import random\n",
    "\n",
    "min_number = 1\n",
    "max_number = 100\n",
    "# Generate a random number between min_number and max_number\n",
    "secret_number = random.randint(min_number, max_number)\n",
    "max_number_of_attempts = 6\n",
    "\n",
    "print(f'Welcome to the Guess-the-number Game')\n",
    "print(f'Guess the secret number between {min_number} and {max_number}.\\n')\n",
    "\n",
    "counter = 0\n",
    "while (counter < max_number_of_attempts):\n",
    "    attempts_left = max_number_of_attempts - counter\n",
    "    guess = int(input(f'Type in a number ({attempts_left} attempts left): '))\n",
    "    if guess == secret_number:\n",
    "        print('You got it! Congratulations')\n",
    "        break\n",
    "    elif guess > secret_number:\n",
    "        print('Your number is too large.')\n",
    "    else:\n",
    "        print('Your number is too small')    \n",
    "    counter = counter + 1\n",
    "    \n",
    "# Check if while loop has finished because counter has reached max_number_of_guesses    \n",
    "if counter == max_number_of_attempts:\n",
    "    print(f'You lost... :( The secret number was {secret_number}')"
   ]
  },
  {
   "cell_type": "code",
   "execution_count": null,
   "metadata": {},
   "outputs": [],
   "source": [
    "# The following function checks if a number is a prime number (returns True in that case, otherwise False)\n",
    "# Instead of checking each division from 2 until number, the function is optimized to run faster.\n",
    "def is_prime(number):\n",
    "    if number <= 1:\n",
    "        # 0, 1, negative numbers are not prime numbers\n",
    "        return False\n",
    "    elif number == 2:\n",
    "        return True\n",
    "    elif number % 2 == 0:\n",
    "        # Even numbers are not prime.\n",
    "        return False\n",
    "    else:\n",
    "        # Check if the number can be divided without remainder:\n",
    "        # (Only necessary to check odd numbers until the square root of the number (**0.5))\n",
    "        for i in range(3, round(number**0.5) + 1, 2):\n",
    "            if number % i == 0:\n",
    "                # If number is divisible, it's not a prime number.\n",
    "                return False\n",
    "        # The for loop has run through - if the functions hasn't returned False at this point,\n",
    "        # the number must be a prime number.\n",
    "        return True\n",
    "\n",
    "# Let's test it:\n",
    "is_prime(103)\n",
    "\n",
    "# Display the first 1000 prime numbers\n",
    "print(2, end='  ')\n",
    "counter = 1\n",
    "number = 3\n",
    "while counter < 1000:\n",
    "    if is_prime(number):\n",
    "        print(number, end='  ')\n",
    "        counter += 1\n",
    "    number += 2"
   ]
  },
  {
   "cell_type": "code",
   "execution_count": null,
   "metadata": {},
   "outputs": [],
   "source": [
    "\n"
   ]
  }
 ],
 "metadata": {
  "kernelspec": {
   "display_name": "Python 3",
   "language": "python",
   "name": "python3"
  },
  "language_info": {
   "codemirror_mode": {
    "name": "ipython",
    "version": 3
   },
   "file_extension": ".py",
   "mimetype": "text/x-python",
   "name": "python",
   "nbconvert_exporter": "python",
   "pygments_lexer": "ipython3",
   "version": "3.7.3"
  }
 },
 "nbformat": 4,
 "nbformat_minor": 2
}
