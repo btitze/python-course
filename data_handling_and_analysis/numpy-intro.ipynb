{
 "cells": [
  {
   "cell_type": "markdown",
   "metadata": {},
   "source": [
    "## NumPy introduction"
   ]
  },
  {
   "cell_type": "code",
   "execution_count": null,
   "metadata": {},
   "outputs": [],
   "source": [
    "# Import NumPy and check its version\n",
    "import numpy as np\n",
    "print(f'NumPy version {np.__version__} installed.')"
   ]
  },
  {
   "cell_type": "code",
   "execution_count": null,
   "metadata": {},
   "outputs": [],
   "source": [
    "# The NumPy data type 'ndarray' is at the core of this package. \n",
    "# It looks like a Python list, but it's much faster and more powerful.\n",
    "# Let's look at several common ways to create such arrays.\n",
    "\n",
    "# Convert numerical data in another format to NumPy array: Use numpy.asarray(data)\n",
    "\n",
    "# One row initialized with three entries\n",
    "my_1d_array = np.array([1, 2, 3])\n",
    "\n",
    "# Three rows initialized with three elements each (= 3x3 matrix)\n",
    "my_2d_array = np.array([[1, 2, 3],\n",
    "                        [4, 5, 6],\n",
    "                        [7, 8, 9]])\n",
    "my_2d_array"
   ]
  },
  {
   "cell_type": "code",
   "execution_count": null,
   "metadata": {},
   "outputs": [],
   "source": [
    "# You can use shortcuts to initialize arrays with zeros, ones or random numbers\n",
    "np.zeros(3)  # for matrix: np.zeros((3, 3))\n",
    "np.ones(3)\n",
    "np.random.randint(1, 10, 3)          # three elements of random numbers (1..10), 1 dimension\n",
    "np.random.randint(1, 10, (4, 5, 6))  # 3 dimensions\n",
    "\n",
    "# Matrix of random floats (0..1) with 5 rows and 3 columns: np.random.randint -> integers; np.random.random -> floats\n",
    "random_matrix = np.random.random((5, 3))\n",
    "random_matrix"
   ]
  },
  {
   "cell_type": "code",
   "execution_count": null,
   "metadata": {},
   "outputs": [],
   "source": [
    "# Append an array vertically or horizontally\n",
    "np.vstack((my_1d_array, my_2d_array))  # Note the extra inner brackets"
   ]
  },
  {
   "cell_type": "code",
   "execution_count": null,
   "metadata": {},
   "outputs": [],
   "source": [
    "np.hstack((my_1d_array, [4, 5, 6]))   # horizontal extension"
   ]
  },
  {
   "cell_type": "code",
   "execution_count": null,
   "metadata": {},
   "outputs": [],
   "source": [
    "# You can specify data types, default is np.float64.\n",
    "# Here we create a 1d array with complex numbers (j is used for display instead of i for the imaginary unit).\n",
    "np.array([3 + 4j, -7, 9 - 1j], dtype = np.complex) "
   ]
  },
  {
   "cell_type": "code",
   "execution_count": null,
   "metadata": {},
   "outputs": [],
   "source": [
    "# A range of values\n",
    "my_range = np.arange(0, 10, 1)          # like Python standard range (from, to, stepsize)\n",
    "my_linspace = np.linspace(0, 10, 5)     # (from, to, number of steps), see also: np.logspace()\n",
    "my_linspace"
   ]
  },
  {
   "cell_type": "code",
   "execution_count": null,
   "metadata": {},
   "outputs": [],
   "source": [
    "# Very easy to apply calculations element-wise: Just use the operator on the whole array\n",
    "print('All matrix entries squared:\\n', my_2d_array**2, '\\n')\n",
    "print('The number 99 subtracted from all entries:\\n', random_matrix - 99)"
   ]
  },
  {
   "cell_type": "code",
   "execution_count": null,
   "metadata": {},
   "outputs": [],
   "source": [
    "# Shape, dimension and size of arrays\n",
    "# Note: always rows first, then columns! \n",
    "print('Shape of array: ', random_matrix.shape)\n",
    "print('Dimension of array: ', random_matrix.ndim)\n",
    "print('Number of elements in array: ', random_matrix.size)"
   ]
  },
  {
   "cell_type": "code",
   "execution_count": null,
   "metadata": {},
   "outputs": [],
   "source": [
    "# Matrix multiplication\n",
    "np.matmul(my_2d_array, my_2d_array)"
   ]
  },
  {
   "cell_type": "code",
   "execution_count": null,
   "metadata": {},
   "outputs": [],
   "source": [
    "# Reshape an array\n",
    "random_matrix.reshape((3, 5))    # Take all entries and arrange them in 3 rows and 5 columns"
   ]
  },
  {
   "cell_type": "code",
   "execution_count": null,
   "metadata": {},
   "outputs": [],
   "source": [
    "# Access elements with indices (rows first, then columns; counting starts with 0!)\n",
    "print('Our matrix:\\n', random_matrix, '\\n')\n",
    "print('Value at row:3, col:1: ', random_matrix[3, 1])\n",
    "print('Row 0 (first row): ', random_matrix[0, :])  # or just random_matrix[0]\n",
    "print('First entries (col: 0) from rows 1 and 2: ', random_matrix[1:3, 0])"
   ]
  },
  {
   "cell_type": "code",
   "execution_count": null,
   "metadata": {},
   "outputs": [],
   "source": [
    "# Fancy indexing: Use lists of indices\n",
    "my_array = np.array([1, -3, 5, 6, 19, 7])\n",
    "ind = [1, 4]\n",
    "my_array[ind]"
   ]
  },
  {
   "cell_type": "code",
   "execution_count": null,
   "metadata": {},
   "outputs": [],
   "source": [
    "# Slicing [start:end:step] - Note: end index is not included!\n",
    "my_array = np.arange(0, 20, 1)\n",
    "print(my_array)\n",
    "print('Reverse: ', my_array[::-1])\n",
    "print('From 5 to 8: ', my_array[5:9])\n",
    "print('Odd indices: ', my_array[1::2])\n",
    "print('Last five: ', my_array[-5:])"
   ]
  },
  {
   "cell_type": "code",
   "execution_count": null,
   "metadata": {},
   "outputs": [],
   "source": [
    "# Universal functions (ufunc) operate on whole arrays:\n",
    "np.max(my_array)\n",
    "np.min(my_array)\n",
    "np.mean(my_array)\n",
    "np.sin(my_array)"
   ]
  },
  {
   "cell_type": "code",
   "execution_count": null,
   "metadata": {},
   "outputs": [],
   "source": [
    "# Sort an array in place\n",
    "my_random_array = np.random.random(100)\n",
    "my_random_array.sort()\n",
    "my_random_array"
   ]
  },
  {
   "cell_type": "code",
   "execution_count": null,
   "metadata": {},
   "outputs": [],
   "source": [
    "# Masking: Create and apply a selector\n",
    "print(my_random_array > 0.6)        # This creates an array of Booleans\n",
    "selector = my_random_array > 0.6\n",
    "# Now only values above 0.6 are selected\n",
    "print(my_random_array[selector])"
   ]
  },
  {
   "cell_type": "code",
   "execution_count": null,
   "metadata": {},
   "outputs": [],
   "source": [
    "# You can also use logical operators (& for 'and'; | for 'or')\n",
    "selector = (my_random_array < 0.1) | (my_random_array > 0.9)\n",
    "# Now only values below 0.1 or above 0.9 are selected\n",
    "my_random_array[selector]"
   ]
  },
  {
   "cell_type": "code",
   "execution_count": null,
   "metadata": {},
   "outputs": [],
   "source": [
    "# Flatten an array with flatten() or ravel()\n",
    "# A new array created with ravel() is a reference to the original one, so if you change it,\n",
    "# the original array will also change!\n",
    "# flatten() creates a copy.\n",
    "my_2d_array.flatten()"
   ]
  },
  {
   "cell_type": "markdown",
   "metadata": {},
   "source": [
    "Documentation, tutorials: \n",
    "\n",
    "Project website:\n",
    "https://numpy.org\n",
    "    \n",
    "Tutorials:<br>\n",
    "https://numpy.org/devdocs/user/basics.html<br>\n",
    "https://www.tutorialspoint.com/numpy/<br>\n",
    "https://www.w3schools.com/python/numpy_intro.asp"
   ]
  },
  {
   "cell_type": "code",
   "execution_count": null,
   "metadata": {},
   "outputs": [],
   "source": []
  }
 ],
 "metadata": {
  "kernelspec": {
   "display_name": "Python 3",
   "language": "python",
   "name": "python3"
  },
  "language_info": {
   "codemirror_mode": {
    "name": "ipython",
    "version": 3
   },
   "file_extension": ".py",
   "mimetype": "text/x-python",
   "name": "python",
   "nbconvert_exporter": "python",
   "pygments_lexer": "ipython3",
   "version": "3.7.3"
  }
 },
 "nbformat": 4,
 "nbformat_minor": 2
}
