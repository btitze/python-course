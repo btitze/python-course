{
 "cells": [
  {
   "cell_type": "code",
   "execution_count": null,
   "metadata": {},
   "outputs": [],
   "source": [
    "# Import numpy and check its version\n",
    "import numpy as np\n",
    "print(f'Numpy version {np.__version__} installed.')"
   ]
  },
  {
   "cell_type": "code",
   "execution_count": null,
   "metadata": {},
   "outputs": [],
   "source": [
    "# The numpy data type 'ndarray' is a the core of this package. \n",
    "# It looks like a Python list, but it's much faster and more powerful.\n",
    "# Let's look at several common ways to create such arrays:\n",
    "\n",
    "# One row with three entries:\n",
    "simple_1d_array = np.array([1, 2, 3])\n",
    "# Three rows with three elements each (= 3x3 matrix):\n",
    "simple_2d_array = np.array([[1, 2, 3],\n",
    "                            [4, 5, 6],\n",
    "                            [7, 8, 9]])\n",
    "# Initialize arrays with zeros, ones or random numbers\n",
    "np.zeros(3)  # for matrix: np.zeros((3, 3))\n",
    "np.ones(3)\n",
    "np.random.randint(1, 10, 3)          # three elements of random 1..10, 1 dimension\n",
    "np.random.randint(1, 10, (4, 5, 6))  # 3 dimensions\n",
    "\n",
    "# A range of values\n",
    "np.arange(0, 10, 1)       # like Python standard range (from, to, stepsize)\n",
    "np.linspace(0, 10, 20)    # (from, to, number of steps)\n",
    "\n",
    "# Matrix of random floats 0..1 with 5 rows and 3 columns:\n",
    "random_matrix = np.random.random((5, 3))\n",
    "random_matrix"
   ]
  },
  {
   "cell_type": "code",
   "execution_count": null,
   "metadata": {},
   "outputs": [],
   "source": [
    "# Apply functions element-wise:\n",
    "print(simple_1d_array**2)\n",
    "print(random_matrix - 1)"
   ]
  },
  {
   "cell_type": "code",
   "execution_count": null,
   "metadata": {},
   "outputs": [],
   "source": [
    "# Shape, dimension and size of arrays:\n",
    "print('Shape of array: ', random_matrix.shape)\n",
    "# Note: always rows first, then columns! \n",
    "print('Dimension of array: ', random_matrix.ndim)\n",
    "print('Number of elements in array: ', random_matrix.size)"
   ]
  },
  {
   "cell_type": "code",
   "execution_count": null,
   "metadata": {},
   "outputs": [],
   "source": [
    "# Reshape an array:\n",
    "random_matrix.reshape((3, 5))"
   ]
  },
  {
   "cell_type": "code",
   "execution_count": null,
   "metadata": {},
   "outputs": [],
   "source": [
    "# Indexing:\n",
    "print(random_matrix[3, 1])\n",
    "print(random_matrix[0, :])  # or just random_matrix[0]\n",
    "print(random_matrix[1:3, 0])"
   ]
  },
  {
   "cell_type": "code",
   "execution_count": null,
   "metadata": {},
   "outputs": [],
   "source": [
    "# Fancy indexing. Use lists of indices:\n",
    "my_array = np.array([1, -3, 5, 6, 19, 7])\n",
    "ind = [0, 4]\n",
    "my_array[ind]"
   ]
  },
  {
   "cell_type": "code",
   "execution_count": null,
   "metadata": {},
   "outputs": [],
   "source": [
    "# Slicing:\n",
    "my_array = np.arange(0, 20, 1)\n",
    "print(my_array)\n",
    "print('Reverse: ', my_array[::-1])\n",
    "print('From 5 to 8: ', my_array[5:9])\n",
    "print('Odd indices: ', my_array[1::2])\n",
    "print('Last five: ', my_array[-5:])"
   ]
  },
  {
   "cell_type": "code",
   "execution_count": null,
   "metadata": {},
   "outputs": [],
   "source": [
    "# Universal functions (ufunc) operate on whole arrays:\n",
    "np.max(my_array)\n",
    "np.min(my_array)\n",
    "np.mean(my_array)\n",
    "np.sin(my_array)"
   ]
  },
  {
   "cell_type": "code",
   "execution_count": null,
   "metadata": {},
   "outputs": [],
   "source": [
    "# Sort an array in place:\n",
    "my_random_array = np.random.random(10)\n",
    "my_random_array.sort()\n",
    "my_random_array"
   ]
  },
  {
   "cell_type": "code",
   "execution_count": null,
   "metadata": {},
   "outputs": [],
   "source": [
    "# Masking:\n",
    "print(my_random_array > 0.5)\n",
    "selector = my_random_array>0.3\n",
    "print(my_random_array[selector])"
   ]
  }
 ],
 "metadata": {
  "kernelspec": {
   "display_name": "Python 3",
   "language": "python",
   "name": "python3"
  },
  "language_info": {
   "codemirror_mode": {
    "name": "ipython",
    "version": 3
   },
   "file_extension": ".py",
   "mimetype": "text/x-python",
   "name": "python",
   "nbconvert_exporter": "python",
   "pygments_lexer": "ipython3",
   "version": "3.7.3"
  }
 },
 "nbformat": 4,
 "nbformat_minor": 2
}
