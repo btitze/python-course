{
 "cells": [
  {
   "cell_type": "markdown",
   "metadata": {},
   "source": [
    "## Matplotlib introduction"
   ]
  },
  {
   "cell_type": "code",
   "execution_count": null,
   "metadata": {},
   "outputs": [],
   "source": [
    "# Import the pyplot module of Matplotlib as 'plt'\n",
    "import matplotlib.pyplot as plt\n",
    "# The following line allows Jupyter Notebook to show and save the plots inside the Notebook.\n",
    "%matplotlib inline   \n",
    "\n",
    "# We also need NumPy here\n",
    "import numpy as np"
   ]
  },
  {
   "cell_type": "code",
   "execution_count": null,
   "metadata": {},
   "outputs": [],
   "source": [
    "# For a typical 2D plot, we first need to prepare the x axis and y axis data points. NumPy is a good choice for this.\n",
    "x = np.arange(-2 * np.pi, 2 * np.pi, 0.01)   # x values from -2π..2π, in steps of 0.01\n",
    "y = np.sin(x**2)                             # Compute sin(x) for the x values"
   ]
  },
  {
   "cell_type": "code",
   "execution_count": null,
   "metadata": {},
   "outputs": [],
   "source": [
    "# Plot the function\n",
    "plt.plot(x, y, lw=1.5)  # lw sets linewidth\n",
    "\n",
    "# Customize the plot\n",
    "plt.title('f(x) = sin(x²)')\n",
    "plt.xlabel('x')\n",
    "plt.ylabel('y')\n",
    "plt.grid(True)\n",
    "plt.show()"
   ]
  },
  {
   "cell_type": "code",
   "execution_count": null,
   "metadata": {},
   "outputs": [],
   "source": [
    "# Subplots - you can arrange several plots in a raster\n",
    "\n",
    "# Make a new figure (specifying the size in inches)\n",
    "fig = plt.figure(figsize=(12, 8))\n",
    "\n",
    "x = np.arange(-10, 10, 0.1)\n",
    "c = ['b', 'g', 'r', 'c', 'm', 'y'] # list of colours ('b'lue, 'g'reen, 'r'ed, ...)\n",
    "\n",
    "for n in range(1, 7):\n",
    "    ax = fig.add_subplot(2, 3, n)  # Adding a subplot in a 2x3 raster at position n\n",
    "    ax.plot(x, x**(n-1), color=c[n-1], lw=2)\n",
    "    ax.set_title(f'x^{n-1}')\n",
    "\n",
    "# Set vertical and horizontal padding\n",
    "fig.subplots_adjust(hspace=0.3, wspace=0.3)  "
   ]
  },
  {
   "cell_type": "markdown",
   "metadata": {},
   "source": [
    "To get started with your own data, check out this amazing gallery: https://matplotlib.org/gallery<br> \n",
    "Here you can find a huge number of examples of different types of plots and visualizations and the source code that generates them. \n",
    "\n",
    "Choose one that is close to what you want and customize the plotting parameters.\n",
    "\n",
    "**Seaborn** is built on top of matplotlib to make plotting easier and more efficient: http://seaborn.pydata.org\n",
    "\n",
    "R users should try out **ggplot** - it's the Python version of R's ggplot2: http://ggplot.yhathq.com\n",
    "\n",
    "Many other packages are available:<br>\n",
    "https://mode.com/blog/python-data-visualization-libraries<br>\n",
    "https://towardsdatascience.com/reviewing-python-visualization-packages-fa7fe12e622b<br>\n",
    "https://www.askpython.com/python/python-plotting-and-graph-libraries\n"
   ]
  },
  {
   "cell_type": "code",
   "execution_count": null,
   "metadata": {},
   "outputs": [],
   "source": []
  }
 ],
 "metadata": {
  "kernelspec": {
   "display_name": "Python 3",
   "language": "python",
   "name": "python3"
  },
  "language_info": {
   "codemirror_mode": {
    "name": "ipython",
    "version": 3
   },
   "file_extension": ".py",
   "mimetype": "text/x-python",
   "name": "python",
   "nbconvert_exporter": "python",
   "pygments_lexer": "ipython3",
   "version": "3.7.3"
  }
 },
 "nbformat": 4,
 "nbformat_minor": 2
}
