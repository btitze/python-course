{
 "cells": [
  {
   "cell_type": "code",
   "execution_count": null,
   "metadata": {},
   "outputs": [],
   "source": [
    "# Import the pyplot module of matplotlib as 'plt' (convention):\n",
    "import matplotlib.pyplot as plt\n",
    "# The following line allows Jupyter Notebook to show the plots inside the notebook.\n",
    "%matplotlib inline   \n",
    "\n",
    "# We also need numpy here:\n",
    "import numpy as np"
   ]
  },
  {
   "cell_type": "code",
   "execution_count": null,
   "metadata": {},
   "outputs": [],
   "source": [
    "# Plotting a function\n",
    "\n",
    "# First, prepare the x and y data. NumPy is a good choice for this.\n",
    "x = np.arange(-2 * np.pi, 2 * np.pi, 0.01)\n",
    "y = np.sin(x**2)\n",
    "\n",
    "# Plot:\n",
    "plt.plot(x, y, lw=1.5)  # lw sets linewidth\n",
    "\n",
    "# Customize and show the plot:\n",
    "plt.title('f(x) = sin(x²)')\n",
    "plt.xlabel('x')\n",
    "plt.ylabel('y')\n",
    "plt.grid(True)\n",
    "plt.show()"
   ]
  },
  {
   "cell_type": "code",
   "execution_count": null,
   "metadata": {},
   "outputs": [],
   "source": [
    "# Subplots - you can arrange several plots in a raster:\n",
    "# Make a new figure (specifying the size in inches)\n",
    "fig = plt.figure(figsize=(12, 8))\n",
    "x = np.arange(-10, 10, 0.1)\n",
    "c = ['b', 'g', 'r', 'c', 'm', 'y'] # list of colours\n",
    "for n in range(1, 7):\n",
    "    ax = fig.add_subplot(2, 3, n)  # Adding a subplot in a 2x3 raster at position n\n",
    "    ax.plot(x, x**(n-1), color=c[n-1], lw=2)\n",
    "    ax.set_title(f'x^{n-1}')\n",
    "# Set vertical and horizontal padding\n",
    "fig.subplots_adjust(hspace=0.3, wspace=0.3)  "
   ]
  },
  {
   "cell_type": "markdown",
   "metadata": {},
   "source": [
    "To get started with your own data, check out https://matplotlib.org/gallery/ \n",
    "Here you can find a huge number of examples of different types of plots and visualizations and the source code that generates them. \n",
    "\n",
    "Choose one that is close to what you want and customize the plotting parameters.\n",
    "\n",
    "Seaborn is built on top of matplotlib to provide more attractive/sophisticating plotting capabilities: http://seaborn.pydata.org/\n"
   ]
  }
 ],
 "metadata": {
  "kernelspec": {
   "display_name": "Python 3",
   "language": "python",
   "name": "python3"
  },
  "language_info": {
   "codemirror_mode": {
    "name": "ipython",
    "version": 3
   },
   "file_extension": ".py",
   "mimetype": "text/x-python",
   "name": "python",
   "nbconvert_exporter": "python",
   "pygments_lexer": "ipython3",
   "version": "3.7.3"
  }
 },
 "nbformat": 4,
 "nbformat_minor": 2
}
