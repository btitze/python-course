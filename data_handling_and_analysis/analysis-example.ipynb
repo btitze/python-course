{
 "cells": [
  {
   "cell_type": "markdown",
   "metadata": {},
   "source": [
    "In this exercise, we will load a large dataset (film metadata, modified from https://www.kaggle.com/rounakbanik/the-movies-dataset#movies_metadata.csv), extract some parts of it, perform some analysis, and plot the results."
   ]
  },
  {
   "cell_type": "code",
   "execution_count": null,
   "metadata": {},
   "outputs": [],
   "source": [
    "import numpy as np\n",
    "import pandas as pd\n",
    "import matplotlib.pyplot as plt\n",
    "%matplotlib inline\n",
    "import webbrowser"
   ]
  },
  {
   "cell_type": "code",
   "execution_count": null,
   "metadata": {},
   "outputs": [],
   "source": [
    "# Load the csv file have a look at its content:\n",
    "df = pd.read_csv('movies_dataset.csv')\n",
    "\n",
    "# df.head()\n",
    "# Show a random sample of rows in this dataset:\n",
    "df.sample(10)"
   ]
  },
  {
   "cell_type": "code",
   "execution_count": null,
   "metadata": {},
   "outputs": [],
   "source": [
    "# Explore\n",
    "print(df['overview'][0])\n",
    "print(df.loc[5436]['original_title'])\n",
    "print(df.loc[25539]['production_companies'])"
   ]
  },
  {
   "cell_type": "code",
   "execution_count": null,
   "metadata": {},
   "outputs": [],
   "source": [
    "# Filter for a given title:\n",
    "df[df.title=='12 Angry Men']"
   ]
  },
  {
   "cell_type": "code",
   "execution_count": null,
   "metadata": {},
   "outputs": [],
   "source": [
    "# Load in IMDb with the imdb_id:\n",
    "webbrowser.open_new_tab('https://www.imdb.com/title/' + df.loc[1161, 'imdb_id'])"
   ]
  },
  {
   "cell_type": "code",
   "execution_count": null,
   "metadata": {},
   "outputs": [],
   "source": [
    "# Drop all the columns we don't need:\n",
    "# df2 = df.drop(columns=['budget', 'imdb_id', 'original_title', 'overview', 'production_companies', 'revenue', 'title', 'vote_count'])"
   ]
  },
  {
   "cell_type": "code",
   "execution_count": null,
   "metadata": {},
   "outputs": [],
   "source": [
    "# Now let's do some analysis with this dataset. \n",
    "# Ensure that the columns containing release dates and runtimes are formatted consistently. \n",
    "# Remove rows where release_date, runtime, title, original_language are missing.\n",
    "df.dropna(subset=['release_date', 'runtime', 'title', 'original_language'], inplace=True)\n",
    "\n",
    "# Delete rows of release_date entries that are too short or don't contain '/'\n",
    "drop_condition = (df.release_date.str.len() < 8) | ~df.release_date.str.contains('/') \n",
    "df.drop(df[drop_condition].index, inplace=True)\n",
    "\n",
    "# Use only the year in the release_date column (as an integer):\n",
    "df['release_date'] = df['release_date'].apply(lambda x: int(x[-4:]))"
   ]
  },
  {
   "cell_type": "code",
   "execution_count": null,
   "metadata": {},
   "outputs": [],
   "source": [
    "df"
   ]
  },
  {
   "cell_type": "code",
   "execution_count": null,
   "metadata": {},
   "outputs": [],
   "source": [
    "# Now, let's look at the durations (label 'runtime'). They should should be ints and larger than 0.\n",
    "df.drop(df[df.runtime < 1].index, inplace=True)\n",
    "df['runtime'] = df['runtime'].apply(lambda x: int(x))\n",
    "\n",
    "# Finally drop rows with empty titles:\n",
    "df.drop(df[df.title.str.len()==0].index, inplace=True)\n",
    "           \n",
    "# Language codes must be exactly two characters:\n",
    "df.drop(df[df.original_language.str.len()!=2].index, inplace=True)"
   ]
  },
  {
   "cell_type": "code",
   "execution_count": null,
   "metadata": {},
   "outputs": [],
   "source": [
    "# Rename two columns:\n",
    "new_names = {'release_date': 'year',\n",
    "             'runtime': 'duration'}\n",
    "df.rename(columns=new_names, inplace=True)\n",
    "df"
   ]
  },
  {
   "cell_type": "code",
   "execution_count": null,
   "metadata": {},
   "outputs": [],
   "source": [
    "durations = df['duration']\n",
    "print(durations.shape)\n",
    "\n",
    "years = df['year']\n",
    "print(years.shape)\n",
    "type(years)"
   ]
  },
  {
   "cell_type": "code",
   "execution_count": null,
   "metadata": {},
   "outputs": [],
   "source": [
    "# What are the mean, median and maximum durations?\n",
    "print('Mean: ', durations.mean())\n",
    "print('Median: ', durations.median())\n",
    "print('Longest duration: ', durations.max())"
   ]
  },
  {
   "cell_type": "code",
   "execution_count": null,
   "metadata": {},
   "outputs": [],
   "source": [
    "# Quick plot:\n",
    "plt.scatter(years, durations)"
   ]
  },
  {
   "cell_type": "code",
   "execution_count": null,
   "metadata": {},
   "outputs": [],
   "source": [
    "# Plotting all datapoints is not very useful.\n",
    "# Group by year and plot the average runtime in each year:\n",
    "avg_durations_vs_years = df.groupby('year')['duration'].mean()"
   ]
  },
  {
   "cell_type": "code",
   "execution_count": null,
   "metadata": {},
   "outputs": [],
   "source": [
    "# Matplotlib can deal with the output (Series)\n",
    "plt.plot(avg_durations_vs_years)\n",
    "\n",
    "# And this syntax also works:\n",
    "# avg_durations_vs_years.plot()"
   ]
  },
  {
   "cell_type": "code",
   "execution_count": null,
   "metadata": {},
   "outputs": [],
   "source": [
    "# Look at another language:\n",
    "df_hindi_subset = df[df.original_language=='hi']\n",
    "df_hindi_subset"
   ]
  },
  {
   "cell_type": "code",
   "execution_count": null,
   "metadata": {},
   "outputs": [],
   "source": [
    "avg_durations_vs_years_hi = df_hindi_subset.groupby('year')['duration'].mean()\n",
    "# Plot data for all movies and Hindi-only movies:\n",
    "plt.plot(avg_durations_vs_years, label='all movies')\n",
    "plt.plot(avg_durations_vs_years_hi, label='Hindi language')\n",
    "plt.legend(loc='lower right')\n",
    "plt.title('Variation of movie durations over time')\n",
    "plt.xlabel('year')\n",
    "plt.ylabel('duration in min (averaged per year)')"
   ]
  },
  {
   "cell_type": "code",
   "execution_count": null,
   "metadata": {},
   "outputs": [],
   "source": [
    "# What about the lengths of movie titles over the years:\n",
    "# Create a new column containing title length:\n",
    "df['title_length'] = df['original_title'].apply(lambda x: len(x))\n",
    "df\n"
   ]
  },
  {
   "cell_type": "code",
   "execution_count": null,
   "metadata": {},
   "outputs": [],
   "source": [
    "titlelength_vs_years = df.groupby('year')['title_length'].mean()\n",
    "# We can extract the data for processing in numpy:\n",
    "title_lengths = titlelength_vs_years.to_numpy()\n",
    "# ..."
   ]
  },
  {
   "cell_type": "code",
   "execution_count": null,
   "metadata": {},
   "outputs": [],
   "source": [
    "titlelength_vs_years.plot()"
   ]
  },
  {
   "cell_type": "code",
   "execution_count": null,
   "metadata": {},
   "outputs": [],
   "source": []
  }
 ],
 "metadata": {
  "kernelspec": {
   "display_name": "Python 3",
   "language": "python",
   "name": "python3"
  },
  "language_info": {
   "codemirror_mode": {
    "name": "ipython",
    "version": 3
   },
   "file_extension": ".py",
   "mimetype": "text/x-python",
   "name": "python",
   "nbconvert_exporter": "python",
   "pygments_lexer": "ipython3",
   "version": "3.7.3"
  }
 },
 "nbformat": 4,
 "nbformat_minor": 2
}
