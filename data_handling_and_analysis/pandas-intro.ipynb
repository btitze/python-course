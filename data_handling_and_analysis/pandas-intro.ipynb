{
 "cells": [
  {
   "cell_type": "code",
   "execution_count": null,
   "metadata": {},
   "outputs": [],
   "source": [
    "# Import pandas and show its version:\n",
    "import pandas as pd\n",
    "print(f'pandas version {pd.__version__} installed.')\n",
    "# Also import numpy\n",
    "import numpy as np"
   ]
  },
  {
   "cell_type": "code",
   "execution_count": null,
   "metadata": {},
   "outputs": [],
   "source": [
    "# There are two types of data structures in pandas: Series and Dataframes.\n",
    "# Let's look at Series first. Series are one-dimensional labelled arrays\n",
    "data = ['circle', 'square', 'triangle', 'rectangle']\n",
    "ser = pd.Series(data, index=['a', 'b', 'c', 'd'])\n",
    "print(ser, '\\n')\n",
    "data = np.array([2.3, 5.4, -3.4, 55, 9.2, 3])\n",
    "ser = pd.Series(data)\n",
    "print(ser)"
   ]
  },
  {
   "cell_type": "code",
   "execution_count": null,
   "metadata": {},
   "outputs": [],
   "source": [
    "# Indexing and slicing work as expected:\n",
    "ser[2:4]"
   ]
  },
  {
   "cell_type": "code",
   "execution_count": null,
   "metadata": {},
   "outputs": [],
   "source": [
    "# Dataframes have labelled columns, like a table in Excel; each column is a Series.\n",
    "famous_scientists = {'first_name': ['Albert', 'Marie', 'Isaac', 'Charles', 'Erwin', 'Francis'],\n",
    "                     'last_name': ['Einstein', 'Curie', 'Newton', 'Darwin', 'Schrödinger', 'Crick'],\n",
    "                     'field': ['physics', 'physics and chemistry', 'physics',\n",
    "                               'biology and geology', 'physics', 'biology'],\n",
    "                     'year_of_birth': [1879, 1867, 1642, 1809, 1887, 1916],\n",
    "                     'place_of_birth': ['Ulm, Germany', 'Warsaw, Poland', 'Woolsthorpe, England',\n",
    "                                        'Shrewsbury, England', 'Vienna, Austria', 'Northampton, England']}\n",
    "df = pd.DataFrame(famous_scientists)\n",
    "\n",
    "# You can also add the rows as a list of lists (same resulting dataframe):\n",
    "df2 = pd.DataFrame([['Albert', 'Einstein', 'physics', 1879, 'Ulm, Germany'],\n",
    "                    ['Marie', 'Curie', 'physics and chemistry', 1867, 'Warsaw, Poland'],\n",
    "                    ['Isaac', 'Newton', 'physics', 1642, 'Woolsthorpe, England'],\n",
    "                    ['Charles', 'Darwin', 'biology and geology', 1809, 'Shrewsbury, England'],\n",
    "                    ['Erwin', 'Schrödinger', 'physics', 1887, 'Vienna, Austria'],\n",
    "                    ['Francis', 'Crick', 'biology', 1916, 'Northampton, England']],\n",
    "                   columns = ['first_name', 'last_name', 'field', 'year_of_birth', 'place_of_birth'])\n",
    "# Element-wise comparison:\n",
    "df == df2\n",
    "\n",
    "df  # compare with print(df)  - Jupyter uses pretty formatting"
   ]
  },
  {
   "cell_type": "code",
   "execution_count": null,
   "metadata": {},
   "outputs": [],
   "source": [
    "# Access values inside the dataframe:\n",
    "print(df.iloc[0, 1])\n",
    "print(df.loc[0, 'last_name'])  \n",
    "print(df.iloc[2, 3])\n",
    "print(df.loc[3, 'field'])\n",
    "# iloc works with index positions (zero-based indexing), loc with labels."
   ]
  },
  {
   "cell_type": "code",
   "execution_count": null,
   "metadata": {},
   "outputs": [],
   "source": [
    "# Select a row:\n",
    "print(df.iloc[0])\n",
    "print('\\n')\n",
    "# Select a column:\n",
    "print(df.loc[:, 'field'])   # Does the same as: df['field'] and df.field"
   ]
  },
  {
   "cell_type": "code",
   "execution_count": null,
   "metadata": {},
   "outputs": [],
   "source": [
    "# Insert a column by appending it to `df`\n",
    "df['new_column'] = [1, 2, 3, 4, 5, 6]\n",
    "\n",
    "# You can also create a new column and set all of its rows to the same value:\n",
    "df['new_column'] = 'hi there'\n",
    "\n",
    "# Or you can set it to values computed from another column:\n",
    "df['new_column'] = df.year_of_birth + 1000\n",
    "\n",
    "df"
   ]
  },
  {
   "cell_type": "code",
   "execution_count": null,
   "metadata": {},
   "outputs": [],
   "source": [
    "# Delete the newly added column again:\n",
    "df.drop('new_column', axis=1, inplace=True)    # axis=1 -> for a given column along all rows\n",
    "                                               # axis=0 -> for a given row along all columns\n",
    "df"
   ]
  },
  {
   "cell_type": "code",
   "execution_count": null,
   "metadata": {},
   "outputs": [],
   "source": [
    "# Add new row at the end of the dataframe:\n",
    "df.loc[len(df)] = ['Friedrich', 'Miescher', 'biology', '1844', 'Basel, Switzerland']\n",
    "df"
   ]
  },
  {
   "cell_type": "code",
   "execution_count": null,
   "metadata": {},
   "outputs": [],
   "source": [
    "# Let's write this data to a csv file:\n",
    "df.to_csv('scientists.csv')"
   ]
  },
  {
   "cell_type": "code",
   "execution_count": null,
   "metadata": {},
   "outputs": [],
   "source": [
    "# Read a dataset from a file:\n",
    "df = pd.read_csv('game_of_thrones.csv', delimiter=',')  "
   ]
  },
  {
   "cell_type": "code",
   "execution_count": null,
   "metadata": {},
   "outputs": [],
   "source": [
    "# What's in it? Look at the first ten rows:\n",
    "df.head(10)\n",
    "# df.tail()"
   ]
  },
  {
   "cell_type": "code",
   "execution_count": null,
   "metadata": {},
   "outputs": [],
   "source": [
    "# Read from and write to csv and Excel files with options:\n",
    "new_df = pd.read_csv('file.csv', header=None, nrows=5)\n",
    "new_df.to_csv('my_file.csv')\n",
    "\n",
    "new_df = pd.read_excel('file.xlsx')\n",
    "new_df.to_excel('my_file.xlsx',  sheet_name='Sheet1')"
   ]
  },
  {
   "cell_type": "code",
   "execution_count": null,
   "metadata": {},
   "outputs": [],
   "source": []
  }
 ],
 "metadata": {
  "kernelspec": {
   "display_name": "Python 3",
   "language": "python",
   "name": "python3"
  },
  "language_info": {
   "codemirror_mode": {
    "name": "ipython",
    "version": 3
   },
   "file_extension": ".py",
   "mimetype": "text/x-python",
   "name": "python",
   "nbconvert_exporter": "python",
   "pygments_lexer": "ipython3",
   "version": "3.7.3"
  }
 },
 "nbformat": 4,
 "nbformat_minor": 2
}
