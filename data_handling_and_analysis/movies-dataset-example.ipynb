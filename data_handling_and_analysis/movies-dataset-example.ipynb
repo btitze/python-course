{
 "cells": [
  {
   "cell_type": "markdown",
   "metadata": {},
   "source": [
    "## Hands-on example: Working with data from a movie database"
   ]
  },
  {
   "cell_type": "markdown",
   "metadata": {},
   "source": [
    "In this hands-on exercise, we will load a large dataset (film metadata, modified from https://www.kaggle.com/rounakbanik/the-movies-dataset#movies_metadata.csv), extract and 'clean' parts of it, perform some analysis, and plot the results.\n",
    "\n",
    "Have fun! :)"
   ]
  },
  {
   "cell_type": "code",
   "execution_count": null,
   "metadata": {},
   "outputs": [],
   "source": [
    "# We'll need pandas and Matplotlib\n",
    "import pandas as pd\n",
    "import matplotlib.pyplot as plt\n",
    "%matplotlib inline\n",
    "\n",
    "# We'll also use 'webbrowser' to load a website (IMDb.com)\n",
    "import webbrowser"
   ]
  },
  {
   "cell_type": "code",
   "execution_count": null,
   "metadata": {},
   "outputs": [],
   "source": [
    "# Load the csv file (you may have to adjust the path depending on where this file is located on your computer!)\n",
    "df = pd.read_csv('data\\movies_dataset.csv')\n",
    "\n",
    "# df.head() will show the top of the table.\n",
    "# df.head()\n",
    "# Show a random sample of rows in this dataset with sample(). Use the slider to see the full width of the table.\n",
    "df.sample(5)"
   ]
  },
  {
   "cell_type": "code",
   "execution_count": null,
   "metadata": {},
   "outputs": [],
   "source": [
    "# What is the size of this dataset?\n",
    "print('Size (number of rows = number of films): ', len(df))"
   ]
  },
  {
   "cell_type": "code",
   "execution_count": null,
   "metadata": {},
   "outputs": [],
   "source": [
    "# Explore\n",
    "print('Synopsis of the movie stored in the first row:\\n', df['overview'][0], '\\n')\n",
    "print('Original title of the movie in row 5436:\\n', df.loc[5436]['original_title'], '\\n')\n",
    "print('Production companies for the movie in row 25539:\\n', df.loc[25539]['production_companies'], '\\n')"
   ]
  },
  {
   "cell_type": "code",
   "execution_count": null,
   "metadata": {},
   "outputs": [],
   "source": [
    "# Filter for a given title\n",
    "df[df.title=='12 Angry Men']"
   ]
  },
  {
   "cell_type": "code",
   "execution_count": null,
   "metadata": {},
   "outputs": [],
   "source": [
    "# Load this movie (1957 version -> row 1161) in IMDb with the imdb_id.\n",
    "webbrowser.open_new_tab('https://www.imdb.com/title/' + df.loc[1161, 'imdb_id'])"
   ]
  },
  {
   "cell_type": "code",
   "execution_count": null,
   "metadata": {},
   "outputs": [],
   "source": [
    "# For the following analysis, we are interested in when movies were released, their runtimes and which languages were\n",
    "# used. So we can drop all the columns we don't need, but we'll keep titles and imdb_ids.\n",
    "df = df.drop(columns=['genres', 'budget', 'overview', 'production_countries', 'production_companies', 'revenue', \n",
    "                      'spoken_languages', 'vote_count', 'vote_average'])\n",
    "df.head()"
   ]
  },
  {
   "cell_type": "code",
   "execution_count": null,
   "metadata": {},
   "outputs": [],
   "source": [
    "# Now let's do some analysis with this dataset! \n",
    "# First, we'll ensure that the columns containing release dates and runtimes are formatted consistently.\n",
    "\n",
    "# Remove rows where release_date, runtime, title, original_language are missing.\n",
    "df.dropna(subset=['release_date', 'runtime', 'title', 'original_language'], inplace=True)\n",
    "\n",
    "# Delete rows of release_date entries that are too short or don't contain '/' (badly formatted)\n",
    "drop_condition = (df.release_date.str.len() < 8) | ~df.release_date.str.contains('/') \n",
    "df.drop(df[drop_condition].index, inplace=True)\n",
    "\n",
    "# Use only the year in the release_date column (as an integer)\n",
    "df['release_date'] = df['release_date'].apply(lambda x: int(x[-4:]))"
   ]
  },
  {
   "cell_type": "code",
   "execution_count": null,
   "metadata": {},
   "outputs": [],
   "source": [
    "# Let's look at the data again. Do you see the difference in the release_date column?\n",
    "df.head()"
   ]
  },
  {
   "cell_type": "code",
   "execution_count": null,
   "metadata": {},
   "outputs": [],
   "source": [
    "# Now, let's look at the film lengths in minutes (label 'runtime'). They should be ints and larger than 0.\n",
    "df.drop(df[df.runtime < 1].index, inplace=True)\n",
    "df['runtime'] = df['runtime'].apply(lambda x: int(x))\n",
    "           \n",
    "# And language codes must be exactly two characters\n",
    "df.drop(df[df.original_language.str.len()!=2].index, inplace=True)\n",
    "\n",
    "# Finally drop rows with empty titles\n",
    "df.drop(df[df.title.str.len()==0].index, inplace=True)\n",
    "\n",
    "# Note: In pandas, the syntax df['col_name'] and df.col_name are equivalent. Choose what you like best!"
   ]
  },
  {
   "cell_type": "code",
   "execution_count": null,
   "metadata": {},
   "outputs": [],
   "source": [
    "# Rename two columns (release_date -> year, original_language -> language)\n",
    "new_names = {'release_date': 'year',\n",
    "             'original_language': 'language'}\n",
    "df.rename(columns=new_names, inplace=True)\n",
    "\n",
    "# Let's look at the data again\n",
    "df.sample(3)"
   ]
  },
  {
   "cell_type": "code",
   "execution_count": null,
   "metadata": {},
   "outputs": [],
   "source": [
    "# Quick statistics for the numeric columns\n",
    "df.describe()"
   ]
  },
  {
   "cell_type": "code",
   "execution_count": null,
   "metadata": {},
   "outputs": [],
   "source": [
    "runtimes = df['runtime']\n",
    "print(runtimes.shape)\n",
    "\n",
    "years = df['year']\n",
    "print(years.shape)\n",
    "type(years)"
   ]
  },
  {
   "cell_type": "code",
   "execution_count": null,
   "metadata": {},
   "outputs": [],
   "source": [
    "# What are the mean, median and maximum runtimes?\n",
    "print('Mean: ', runtimes.mean())\n",
    "print('Median: ', runtimes.median())\n",
    "print('Longest runtime: ', runtimes.max())"
   ]
  },
  {
   "cell_type": "code",
   "execution_count": null,
   "metadata": {},
   "outputs": [],
   "source": [
    "# Longest runtime 1256 minutes? What movie is that?\n",
    "print(df[df.runtime==1256].original_title)\n",
    "row_index = df.loc[df.runtime==1256].index[0]\n",
    "\n",
    "webbrowser.open_new_tab('https://www.imdb.com/title/' + df.loc[row_index, 'imdb_id'])"
   ]
  },
  {
   "cell_type": "code",
   "execution_count": null,
   "metadata": {},
   "outputs": [],
   "source": [
    "# Actually, it's a series, not a single movie... Let's cut this row out\n",
    "df.drop(row_index, inplace=True)"
   ]
  },
  {
   "cell_type": "code",
   "execution_count": null,
   "metadata": {},
   "outputs": [],
   "source": [
    "# Show a histogram of the runtimes\n",
    "df['runtime'].hist(bins=40, range=(0, 200))"
   ]
  },
  {
   "cell_type": "code",
   "execution_count": null,
   "metadata": {},
   "outputs": [],
   "source": [
    "# Quick plot of runtimes over years\n",
    "plt.scatter(years, runtimes)\n",
    "# plt.show()"
   ]
  },
  {
   "cell_type": "code",
   "execution_count": null,
   "metadata": {},
   "outputs": [],
   "source": [
    "# As you can see, plotting all datapoints is not very useful!\n",
    "\n",
    "# So let's group by year and plot the average runtime in each year\n",
    "avg_runtimes_vs_years = df.groupby('year')['runtime'].mean()"
   ]
  },
  {
   "cell_type": "code",
   "execution_count": null,
   "metadata": {},
   "outputs": [],
   "source": [
    "# Matplotlib can deal with the output (Series)\n",
    "plt.plot(avg_runtimes_vs_years)\n",
    "plt.show()"
   ]
  },
  {
   "cell_type": "code",
   "execution_count": null,
   "metadata": {},
   "outputs": [],
   "source": [
    "# And the following syntax also works because pandas uses Matplotlib under the hood when you call .plot()\n",
    "avg_runtimes_vs_years.plot()"
   ]
  },
  {
   "cell_type": "code",
   "execution_count": null,
   "metadata": {},
   "outputs": [],
   "source": [
    "# Look at a specific language: Hindi, language code 'hi'\n",
    "df_hindi_subset = df[df.language=='hi']\n",
    "df_hindi_subset.sample(10)"
   ]
  },
  {
   "cell_type": "code",
   "execution_count": null,
   "metadata": {},
   "outputs": [],
   "source": [
    "avg_runtimes_vs_years_hi = df_hindi_subset.groupby('year')['runtime'].mean()\n",
    "\n",
    "# Plot data for all movies and for Hindi-only movies\n",
    "plt.plot(avg_runtimes_vs_years, label='all movies')\n",
    "plt.plot(avg_runtimes_vs_years_hi, label='Hindi language')\n",
    "plt.legend(loc='lower right')\n",
    "plt.title('Variation of movie runtimes over time')\n",
    "plt.xlabel('year')\n",
    "plt.ylabel('runtime in min (averaged per year)')\n",
    "plt.show()"
   ]
  },
  {
   "cell_type": "code",
   "execution_count": null,
   "metadata": {},
   "outputs": [],
   "source": [
    "# What about the lengths of movie titles over the years?\n",
    "# Create a new column containing title lengths\n",
    "df['title_length'] = df['original_title'].apply(lambda x: len(x))\n",
    "df.sample(5)"
   ]
  },
  {
   "cell_type": "code",
   "execution_count": null,
   "metadata": {},
   "outputs": [],
   "source": [
    "titlelength_vs_years = df.groupby('year')['title_length'].mean()\n",
    "# We can extract the data for processing in NumPy\n",
    "# title_lengths = titlelength_vs_years.to_numpy()\n",
    "# ..."
   ]
  },
  {
   "cell_type": "code",
   "execution_count": null,
   "metadata": {},
   "outputs": [],
   "source": [
    "titlelength_vs_years.plot()\n",
    "plt.title('Variation of film title lengths over time')\n",
    "plt.xlabel('year')\n",
    "plt.ylabel('title length (# of characters)')\n",
    "plt.show()"
   ]
  },
  {
   "cell_type": "code",
   "execution_count": null,
   "metadata": {},
   "outputs": [],
   "source": [
    "# And you can explore much more... :)"
   ]
  },
  {
   "cell_type": "code",
   "execution_count": null,
   "metadata": {},
   "outputs": [],
   "source": []
  }
 ],
 "metadata": {
  "kernelspec": {
   "display_name": "Python 3",
   "language": "python",
   "name": "python3"
  },
  "language_info": {
   "codemirror_mode": {
    "name": "ipython",
    "version": 3
   },
   "file_extension": ".py",
   "mimetype": "text/x-python",
   "name": "python",
   "nbconvert_exporter": "python",
   "pygments_lexer": "ipython3",
   "version": "3.7.3"
  }
 },
 "nbformat": 4,
 "nbformat_minor": 2
}
