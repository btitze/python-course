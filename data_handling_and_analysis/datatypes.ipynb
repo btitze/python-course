{
 "cells": [
  {
   "cell_type": "markdown",
   "metadata": {},
   "source": [
    "A few examples to explain ***mutable*** and ***immutable*** data types, and passing ***by value*** vs passing ***by reference***. "
   ]
  },
  {
   "cell_type": "code",
   "execution_count": null,
   "metadata": {},
   "outputs": [],
   "source": [
    "# The following two lines make Jupyter automatically print out every expression that has a return value (not only \n",
    "# the last one in each cell, which is the default setting in Jupyter Notebook).\n",
    "# You usually don't need this, but it may be convenient sometimes, for example in this Notebook. :)\n",
    "from IPython.core.interactiveshell import InteractiveShell\n",
    "InteractiveShell.ast_node_interactivity = 'all'"
   ]
  },
  {
   "cell_type": "code",
   "execution_count": null,
   "metadata": {},
   "outputs": [],
   "source": [
    "# Immutable data types\n",
    "my_int = 23\n",
    "my_float = -2.75023798e7\n",
    "my_string = 'Python'\n",
    "my_boolean = True\n",
    "my_tuple = ('a string', 234, False)   # The round brackets are optional"
   ]
  },
  {
   "cell_type": "code",
   "execution_count": null,
   "metadata": {},
   "outputs": [],
   "source": [
    "# You can check the type of any object with type()\n",
    "type(my_int)\n",
    "type(my_float)\n",
    "type(my_string)\n",
    "type(my_boolean)\n",
    "type(my_tuple)"
   ]
  },
  {
   "cell_type": "code",
   "execution_count": null,
   "metadata": {},
   "outputs": [],
   "source": [
    "# Since the variables my_string and my_tuple created above have data types that are *immutable*, the following attempts \n",
    "# to modify their content will raise errors! You should see a 'TypeError' message.\n",
    "my_string[0] = 'C'\n",
    "my_tuple[1] = 1000"
   ]
  },
  {
   "cell_type": "code",
   "execution_count": null,
   "metadata": {},
   "outputs": [],
   "source": [
    "# If you wish to change a string or a tuple in Python, you must create a new one based on the original one.\n",
    "# For example:\n",
    "my_string = 'C' + my_string[1:]              # This creates and assigns a new string to my_string\n",
    "my_string\n",
    "my_tuple = (my_tuple[0], 1000, my_tuple[2])  # This creates and assigns a new tuple to my_tuple with a new value at index 1.\n",
    "my_tuple"
   ]
  },
  {
   "cell_type": "code",
   "execution_count": null,
   "metadata": {},
   "outputs": [],
   "source": [
    "# The following are variables with *mutable* data types. Their 'content' can be modified directly.\n",
    "my_list = [5, 6, 7, 1]\n",
    "my_dict = {'name': 'Anne', 'age': 29}\n",
    "my_set = {'cow', 'dog', 'horse'}"
   ]
  },
  {
   "cell_type": "code",
   "execution_count": null,
   "metadata": {},
   "outputs": [],
   "source": [
    "# Check the types\n",
    "type(my_list)\n",
    "type(my_dict)\n",
    "type(my_set)"
   ]
  },
  {
   "cell_type": "code",
   "execution_count": null,
   "metadata": {},
   "outputs": [],
   "source": [
    "# The following assignments are allowed because the objects are mutable:\n",
    "# We can change them in place (at the same memory address, see below)\n",
    "my_list += [0, -1, -20, -99]\n",
    "my_list\n",
    "my_dict['name'] = 'Thomas'\n",
    "my_dict\n",
    "my_set.add('cat')\n",
    "my_set"
   ]
  },
  {
   "cell_type": "markdown",
   "metadata": {},
   "source": [
    "The remaining part of this Notebook is a bit more advanced and may be skipped for this session."
   ]
  },
  {
   "cell_type": "code",
   "execution_count": null,
   "metadata": {},
   "outputs": [],
   "source": [
    "# id() provides the memory address of an object.\n",
    "# Reassigning to an immutable type -> id() return value changes! The variable now points to a different memory address.\n",
    "q = 5\n",
    "id(q)\n",
    "q = 6\n",
    "id(q)"
   ]
  },
  {
   "cell_type": "code",
   "execution_count": null,
   "metadata": {},
   "outputs": [],
   "source": [
    "# Compare the following behaviour of lists to that of ints.\n",
    "# After the assignment 'list_b = list_a', list_a and list_b point to the same address in memory. \n",
    "# Changing list_b will now also change list_a!\n",
    "list_a = [1, 2, 3]\n",
    "print('Original list_a: ', list_a)\n",
    "list_b = list_a\n",
    "list_b[2] = 99\n",
    "print('list_a has changed, even though we (explicitly) only changed list_b! ', list_a)\n",
    "print('list_a and list_b have the same memory address: ', id(list_a), id(list_b))"
   ]
  },
  {
   "cell_type": "code",
   "execution_count": null,
   "metadata": {},
   "outputs": [],
   "source": [
    "# int_a and int_b point to the same address in memory in the beginning. But after int_b is reassigned, \n",
    "# it points to a new address. int_a is not changed.\n",
    "int_a = 5\n",
    "int_b = int_a\n",
    "print('Same id() of int_a and int_b: ', id(int_a), id(int_b))\n",
    "# int_b is reassigned\n",
    "int_b = 6\n",
    "print('id() of int_b after reassignment: ', id(int_b))\n",
    "print('New value of int_b: ', int_b)\n",
    "print('int_a remains unchanged: ', int_a)"
   ]
  },
  {
   "cell_type": "code",
   "execution_count": null,
   "metadata": {},
   "outputs": [],
   "source": [
    "# You can check equality of values with '==', and equality of id() with 'is'\n",
    "a = ['a']\n",
    "b = ['a']\n",
    "a == b\n",
    "a is b\n",
    "\n",
    "# 'is' is often used with 'None' (None is a special object that signals 'no value here / undefined'.)\n",
    "if a is not None:\n",
    "    print('a is not None.')\n",
    "\n",
    "if a is None:\n",
    "    print('a is None.')"
   ]
  },
  {
   "cell_type": "markdown",
   "metadata": {},
   "source": [
    "The following code demonstrates the difference between passing an argument **by reference** and passing it **by value**."
   ]
  },
  {
   "cell_type": "code",
   "execution_count": null,
   "metadata": {},
   "outputs": [],
   "source": [
    "def double(my_parameter):\n",
    "    # Multiply parameter by two (this works for numbers, strings, lists, ...)\n",
    "    # Note that my_parameter is now changed within this function.\n",
    "    my_parameter *= 2\n",
    "    return my_parameter\n",
    "\n",
    "# Check the output of the following function calls - the function works as expected.\n",
    "double(5)\n",
    "double('A')\n",
    "double(['hey', 'hey'])"
   ]
  },
  {
   "cell_type": "code",
   "execution_count": null,
   "metadata": {},
   "outputs": [],
   "source": [
    "# What happens if we use an immutable variable as an argument for double()?\n",
    "my_number = 5\n",
    "double(my_number)\n",
    "# The return value of double(my_number) is 10, as expected; the variable my_number is unchanged.\n",
    "print('my_number is unchanged: ', my_number)"
   ]
  },
  {
   "cell_type": "code",
   "execution_count": null,
   "metadata": {},
   "outputs": [],
   "source": [
    "# What happens if we use a mutable variable as an argument for double?\n",
    "my_list = ['hello', 'hello']\n",
    "print('my_list before calling double(): ', my_list)\n",
    "double(my_list)\n",
    "# Now, because my_list is mutable, a *reference* was passed to the function. my_list has changed!\n",
    "print('my_list after calling double(): ', my_list)"
   ]
  },
  {
   "cell_type": "code",
   "execution_count": null,
   "metadata": {},
   "outputs": [],
   "source": []
  }
 ],
 "metadata": {
  "kernelspec": {
   "display_name": "Python 3",
   "language": "python",
   "name": "python3"
  },
  "language_info": {
   "codemirror_mode": {
    "name": "ipython",
    "version": 3
   },
   "file_extension": ".py",
   "mimetype": "text/x-python",
   "name": "python",
   "nbconvert_exporter": "python",
   "pygments_lexer": "ipython3",
   "version": "3.7.3"
  }
 },
 "nbformat": 4,
 "nbformat_minor": 2
}
