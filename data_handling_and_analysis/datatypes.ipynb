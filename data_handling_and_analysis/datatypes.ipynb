{
 "cells": [
  {
   "cell_type": "markdown",
   "metadata": {},
   "source": [
    "A few examples to explain mutable and immutable data types and passing by value vs passing by reference"
   ]
  },
  {
   "cell_type": "code",
   "execution_count": null,
   "metadata": {},
   "outputs": [],
   "source": [
    "# The following code automatically prints out every expression in each notebook cell without the need to use print() \n",
    "# (not only the last one in each cell, which is the default setting in Jupyter Notebook)\n",
    "from IPython.core.interactiveshell import InteractiveShell\n",
    "InteractiveShell.ast_node_interactivity = 'all'"
   ]
  },
  {
   "cell_type": "code",
   "execution_count": null,
   "metadata": {},
   "outputs": [],
   "source": [
    "# Basic data types:\n",
    "my_int = 23\n",
    "my_float = -2.75023798e7\n",
    "my_string = 'Python'\n",
    "my_boolean = True\n",
    "my_tuple = ('a string', 234, False)"
   ]
  },
  {
   "cell_type": "code",
   "execution_count": null,
   "metadata": {},
   "outputs": [],
   "source": [
    "type(my_float)\n",
    "type(my_tuple)"
   ]
  },
  {
   "cell_type": "code",
   "execution_count": null,
   "metadata": {},
   "outputs": [],
   "source": [
    "# The data types above are immutable (the following assignments will raise errors):\n",
    "my_string[0] = 'C'\n",
    "my_tuple[1] = 1000"
   ]
  },
  {
   "cell_type": "code",
   "execution_count": null,
   "metadata": {},
   "outputs": [],
   "source": [
    "my_list = [5, 6, 7, 1]\n",
    "my_dict = {'name': 'Anne', 'age': 29}\n",
    "my_set = ('cow', 'dog', 'horse')"
   ]
  },
  {
   "cell_type": "code",
   "execution_count": null,
   "metadata": {},
   "outputs": [],
   "source": [
    "# The types above are mutable:\n",
    "my_dict['name'] = 'Thomas'\n",
    "my_dict['name']"
   ]
  },
  {
   "cell_type": "code",
   "execution_count": null,
   "metadata": {},
   "outputs": [],
   "source": [
    "# Reassigning to an immutable type -> id() changes!\n",
    "q = 5\n",
    "id(q)\n",
    "q = 6\n",
    "id(q)"
   ]
  },
  {
   "cell_type": "code",
   "execution_count": null,
   "metadata": {},
   "outputs": [],
   "source": [
    "# Compare the following behaviour of lists to that of ints.\n",
    "# After the assignment 'list_b = list_a', list_a and list_b point to the same address in memory. \n",
    "# Changing list_b will change list_a.\n",
    "list_a = [1, 2, 3]\n",
    "print('Original list_a: ', list_a)\n",
    "list_b = list_a\n",
    "list_b[2] = 4\n",
    "print('list_a has changed, even though we only changed list_b! ', list_a)\n",
    "print('list_a and list_b have the same memory address: ', id(list_a), id(list_b))"
   ]
  },
  {
   "cell_type": "code",
   "execution_count": null,
   "metadata": {},
   "outputs": [],
   "source": [
    "# int_a and int_b point to the same address in memory in the beginning. But after int_b is reassigned, \n",
    "# it points to a new address. int_a is not changed.\n",
    "int_a = 5\n",
    "int_b = int_a\n",
    "print('Same id() of int_a and int_b: ', id(int_a), id(int_b))\n",
    "# int_b is reassigned:\n",
    "int_b = 6\n",
    "print('id() of int_b after reassignment: ', id(int_b))\n",
    "print('New value of int_b: ', int_b)\n",
    "print('int_a remains unchanged: ', int_a)"
   ]
  },
  {
   "cell_type": "code",
   "execution_count": null,
   "metadata": {},
   "outputs": [],
   "source": [
    "# Check equality of value with '==', equality of id() with 'is':\n",
    "a = ['a']\n",
    "b = ['a']\n",
    "a == b\n",
    "a is b\n",
    "\n",
    "# Common pattern:\n",
    "# (None is a special object that signals 'no value here / undefined')\n",
    "if a is not None:\n",
    "    print('a is not None.')\n",
    "\n",
    "if a is None:\n",
    "    print('a is None.')"
   ]
  },
  {
   "cell_type": "markdown",
   "metadata": {},
   "source": [
    "The following code demonstrates the difference between passing an argument by reference or by value."
   ]
  },
  {
   "cell_type": "code",
   "execution_count": null,
   "metadata": {},
   "outputs": [],
   "source": [
    "def double(my_parameter):\n",
    "    # Multiply parameter by two (this works for numbers, strings, lists):\n",
    "    my_parameter *= 2\n",
    "    return my_parameter\n",
    "\n",
    "double(5)\n",
    "double('A')\n",
    "double(['hey', 'hey'])"
   ]
  },
  {
   "cell_type": "code",
   "execution_count": null,
   "metadata": {},
   "outputs": [],
   "source": [
    "# What happens if we use an immutable variable as an argument?\n",
    "my_number = 5\n",
    "double(my_number)\n",
    "print('my_number is unchanged: ', my_number)"
   ]
  },
  {
   "cell_type": "code",
   "execution_count": null,
   "metadata": {},
   "outputs": [],
   "source": [
    "# What happens if we use a mutable variable as an argument?\n",
    "my_list = ['hello', 'hello']\n",
    "double(my_list)\n",
    "print('my_list is changed: ', my_list)"
   ]
  }
 ],
 "metadata": {
  "kernelspec": {
   "display_name": "Python 3",
   "language": "python",
   "name": "python3"
  },
  "language_info": {
   "codemirror_mode": {
    "name": "ipython",
    "version": 3
   },
   "file_extension": ".py",
   "mimetype": "text/x-python",
   "name": "python",
   "nbconvert_exporter": "python",
   "pygments_lexer": "ipython3",
   "version": "3.7.3"
  }
 },
 "nbformat": 4,
 "nbformat_minor": 2
}
