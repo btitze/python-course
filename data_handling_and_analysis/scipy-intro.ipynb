{
 "cells": [
  {
   "cell_type": "markdown",
   "metadata": {},
   "source": [
    "## SciPy introduction"
   ]
  },
  {
   "cell_type": "code",
   "execution_count": null,
   "metadata": {},
   "outputs": [],
   "source": [
    "# The SciPy library consists of many subpackages for different applications:\n",
    "#     - Clustering\n",
    "#     - Statistics\n",
    "#     - Integration\n",
    "#     - Interpolation\n",
    "#     - Fourier transforms\n",
    "#     - Image and signal processing\n",
    "#     - Working with MATLAB files\n",
    "#     - ...\n",
    "# Usually, the required subpackage is imported explicitly, see below.\n",
    "# We will look at a few simple examples, see https://docs.scipy.org/doc/scipy/reference/ for more info.\n",
    "\n",
    "from scipy import constants, integrate, linalg, io\n",
    "from scipy.stats import pearsonr\n",
    "\n",
    "# We'll also use NumPy in this Notebook\n",
    "import numpy as np"
   ]
  },
  {
   "cell_type": "code",
   "execution_count": null,
   "metadata": {},
   "outputs": [],
   "source": [
    "# SciPy provides many physical and mathematical constants and units\n",
    "print('Golden ratio: ', constants.golden)\n",
    "print('Speed of light (m/s): ', constants.c)\n",
    "print('Proton mass (kg)', constants.proton_mass)"
   ]
  },
  {
   "cell_type": "code",
   "execution_count": null,
   "metadata": {},
   "outputs": [],
   "source": [
    "# Save an array in MATLAB .mat format\n",
    "my_array = np.random.randint(1, 10, (5, 5))\n",
    "io.savemat('my_file.mat', {'array': my_array}) \n",
    "data_from_mat = io.loadmat('my_file.mat', struct_as_record=True)\n",
    "data_from_mat['array']"
   ]
  },
  {
   "cell_type": "code",
   "execution_count": null,
   "metadata": {},
   "outputs": [],
   "source": [
    "# Integrate x^2 numerically, with limits a and b\n",
    "# (from the Fortran library QUADPACK, that's why the function is called integrate.quad)\n",
    "f = lambda x: x**2\n",
    "result, err = integrate.quad(func=f, a=0.47, b=12.69)\n",
    "print(f'Integral: {result}, estimate of the error: {err}')"
   ]
  },
  {
   "cell_type": "code",
   "execution_count": null,
   "metadata": {},
   "outputs": [],
   "source": [
    "# Linear algebra functions are also available in NumPy, but SciPy offers more functions and may run faster.\n",
    "\n",
    "# Invert a matrix\n",
    "my_matrix = np.array([[3.481, 9.5323, -24.1], \n",
    "                      [18.77, -0.233, 23.30], \n",
    "                      [0.008, -12.81, 1.124]])\n",
    "print('Inverse matrix: \\n', linalg.inv(my_matrix))\n",
    "print('Multiplying matrix with its inverse: ')\n",
    "print(my_matrix.dot(linalg.inv(my_matrix)))\n",
    "\n",
    "# Compute eigenvalues and eigenvectors\n",
    "eigenvalues, eigenvectors = linalg.eig(my_matrix)\n",
    "print('Eigenvalues: \\n', eigenvalues)\n",
    "print('Eigenvectors: \\n', eigenvectors)"
   ]
  },
  {
   "cell_type": "code",
   "execution_count": null,
   "metadata": {},
   "outputs": [],
   "source": [
    "# Compute Pearson correlation coefficient\n",
    "some_data = np.sin(np.linspace(0, 10, 100))\n",
    "some_other_data = np.cos(np.linspace(np.pi/2, 10 + np.pi/2, 100))\n",
    "r, p_value = pearsonr(some_data, some_other_data)\n",
    "r"
   ]
  },
  {
   "cell_type": "code",
   "execution_count": null,
   "metadata": {},
   "outputs": [],
   "source": [
    "# Get help on how to use a function\n",
    "help(pearsonr)"
   ]
  },
  {
   "cell_type": "code",
   "execution_count": null,
   "metadata": {},
   "outputs": [],
   "source": []
  }
 ],
 "metadata": {
  "kernelspec": {
   "display_name": "Python 3",
   "language": "python",
   "name": "python3"
  },
  "language_info": {
   "codemirror_mode": {
    "name": "ipython",
    "version": 3
   },
   "file_extension": ".py",
   "mimetype": "text/x-python",
   "name": "python",
   "nbconvert_exporter": "python",
   "pygments_lexer": "ipython3",
   "version": "3.7.3"
  }
 },
 "nbformat": 4,
 "nbformat_minor": 2
}
