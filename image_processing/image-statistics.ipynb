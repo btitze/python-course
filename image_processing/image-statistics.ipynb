{
 "cells": [
  {
   "cell_type": "markdown",
   "metadata": {},
   "source": [
    "## Image statistics"
   ]
  },
  {
   "cell_type": "code",
   "execution_count": null,
   "metadata": {},
   "outputs": [],
   "source": [
    "from scipy import misc, ndimage\n",
    "from skimage import exposure\n",
    "import matplotlib.pyplot as plt\n",
    "%matplotlib inline\n",
    "import numpy as np"
   ]
  },
  {
   "cell_type": "code",
   "execution_count": null,
   "metadata": {},
   "outputs": [],
   "source": [
    "# We will use an example image (a racoon face) from scipy.misc\n",
    "image = misc.face(gray=True)\n",
    "plt.imshow(image, cmap='gray')\n",
    "# plt.show() is not required. \n",
    "# If you uncomment the following line, the text output <matplotlib.image.AxesImage at ...> will be suppressed\n",
    "# plt.show() "
   ]
  },
  {
   "cell_type": "code",
   "execution_count": null,
   "metadata": {},
   "outputs": [],
   "source": [
    "# The image is a NumPy array\n",
    "type(image), image.dtype, image.shape"
   ]
  },
  {
   "cell_type": "code",
   "execution_count": null,
   "metadata": {},
   "outputs": [],
   "source": [
    "# The minimum, maximum, mean and standard deviation of the image pixels\n",
    "print('Minimum: ', image.min())\n",
    "print('Maximum: ', image.max())\n",
    "print('Mean: ', image.mean())\n",
    "print('Standard deviation: ', image.std())"
   ]
  },
  {
   "cell_type": "code",
   "execution_count": null,
   "metadata": {},
   "outputs": [],
   "source": [
    "# Get the histogram with a NumPy function\n",
    "hist, bin_edges = np.histogram(image, bins=255, range=(0, 255))\n",
    "# Look at bin_edges and the actual histogram\n",
    "print('bin_edges: ', bin_edges)\n",
    "print('hist: ', hist)\n",
    "# Note: The bins are [inclusive, exclusive), except the final one, which is [inclusive, inclusive]"
   ]
  },
  {
   "cell_type": "code",
   "execution_count": null,
   "metadata": {},
   "outputs": [],
   "source": [
    "# How many pixels with a greyvalue of 158?\n",
    "print(f'{hist[158]} pixels of greyvalue 158')\n",
    "# At what greyvalue is the peak of the histogram?\n",
    "print(f'Peak of {hist.max()} pixels at greyvalue {np.where(hist == hist.max())[0][0]}')"
   ]
  },
  {
   "cell_type": "code",
   "execution_count": null,
   "metadata": {},
   "outputs": [],
   "source": [
    "# We could now manually plot the histogram with the NumPy array obtained by np.histogram(), \n",
    "# but there is also a histogram function in matplotlib\n",
    "plt.hist(image.ravel(), 256, [0, 256])           # .ravel() flattens the 2D array into a 1D array\n",
    "# The hist() method returns the histogram data in case you need it:\n",
    "# n, bins, patches = plt.hist()\n",
    "plt.grid(axis='y', alpha=0.75)\n",
    "plt.title('Histogram of racoon image')\n",
    "plt.xlabel('greyvalue')\n",
    "plt.ylabel('frequency')\n",
    "plt.show()"
   ]
  },
  {
   "cell_type": "code",
   "execution_count": null,
   "metadata": {},
   "outputs": [],
   "source": [
    "# Rescale intensity (= contrast stretching) with skimage.exposure\n",
    "lower, higher = np.percentile(image, (0.5, 99.5))\n",
    "image_rescaled = exposure.rescale_intensity(image, in_range=(lower, higher))"
   ]
  },
  {
   "cell_type": "code",
   "execution_count": null,
   "metadata": {},
   "outputs": [],
   "source": [
    "# Plot the histogram of the rescaled image\n",
    "plt.hist(image_rescaled.ravel(), 256, [0, 256])\n",
    "plt.grid(axis='y', alpha=0.75)\n",
    "plt.title('Histogram of rescaled racoon image')\n",
    "plt.xlabel('greyvalue')\n",
    "plt.ylabel('frequency')\n",
    "plt.show()"
   ]
  },
  {
   "cell_type": "code",
   "execution_count": null,
   "metadata": {},
   "outputs": [],
   "source": []
  }
 ],
 "metadata": {
  "kernelspec": {
   "display_name": "Python 3",
   "language": "python",
   "name": "python3"
  },
  "language_info": {
   "codemirror_mode": {
    "name": "ipython",
    "version": 3
   },
   "file_extension": ".py",
   "mimetype": "text/x-python",
   "name": "python",
   "nbconvert_exporter": "python",
   "pygments_lexer": "ipython3",
   "version": "3.7.3"
  }
 },
 "nbformat": 4,
 "nbformat_minor": 2
}
