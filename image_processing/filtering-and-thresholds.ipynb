{
 "cells": [
  {
   "cell_type": "markdown",
   "metadata": {},
   "source": [
    "## Applying filters and thresholds with scikit-image"
   ]
  },
  {
   "cell_type": "code",
   "execution_count": null,
   "metadata": {},
   "outputs": [],
   "source": [
    "from IPython.display import Image   # Use Image() to show an image from a website in a Jupyter Notebook (see cell below)\n",
    "from skimage import io, filters, color, util\n",
    "import matplotlib.pyplot as plt\n",
    "%matplotlib inline\n",
    "import numpy as np"
   ]
  },
  {
   "cell_type": "code",
   "execution_count": null,
   "metadata": {},
   "outputs": [],
   "source": [
    "# Quick reminder how filters work\n",
    "Image(url='https://ars.els-cdn.com/content/image/3-s2.0-B9780128014141000041-f04-03-9780128014141.jpg')"
   ]
  },
  {
   "cell_type": "markdown",
   "metadata": {},
   "source": [
    "You can find an overview of all filters and threshold methods available in scikit-image here:\n",
    "https://scikit-image.org/docs/dev/api/skimage.filters "
   ]
  },
  {
   "cell_type": "code",
   "execution_count": null,
   "metadata": {},
   "outputs": [],
   "source": [
    "# Load the butterfly testimage, and convert it to 8-bit greyscale\n",
    "\n",
    "image_path = 'monarch_testimage.png'\n",
    "# You may have to change the path above for your system\n",
    "\n",
    "# Load image in the same folder\n",
    "# image_path = 'monarch_testimage.png'\n",
    "\n",
    "img = util.img_as_ubyte(color.rgb2gray(io.imread(image_path)))\n",
    "io.imshow(img)\n",
    "plt.show()\n",
    "# The two lines above do approximately the same as plt.imshow(img, cmap='gray')"
   ]
  },
  {
   "cell_type": "code",
   "execution_count": null,
   "metadata": {},
   "outputs": [],
   "source": [
    "# Gaussian filter (smoothing, removal of noise, but also of image detail)\n",
    "img_gauss = filters.gaussian(img, sigma=3)\n",
    "io.imshow(img_gauss)\n",
    "plt.show()"
   ]
  },
  {
   "cell_type": "code",
   "execution_count": null,
   "metadata": {},
   "outputs": [],
   "source": [
    "# Sobel (emphasizes edges):\n",
    "img_edges = filters.sobel(img)\n",
    "io.imshow(img_edges)\n",
    "plt.show()"
   ]
  },
  {
   "cell_type": "code",
   "execution_count": null,
   "metadata": {},
   "outputs": [],
   "source": [
    "# Median filter (may be good choice to remove noise while preserving image details)\n",
    "img_median = filters.median(img)\n",
    "io.imshow(img_median)\n",
    "plt.show()"
   ]
  },
  {
   "cell_type": "code",
   "execution_count": null,
   "metadata": {},
   "outputs": [],
   "source": [
    "# Thresholds are used to produce binary images\n",
    "# We can set a threshold directly (result will be an array with booleans)\n",
    "img_thresholded = img > 120\n",
    "# or use np.where() to set the target values after the threshold, e.g., 0 and 255\n",
    "# img_thresholded = np.where(img > 120, 0, 255)\n",
    "io.imshow(img_thresholded)\n",
    "plt.show()"
   ]
  },
  {
   "cell_type": "code",
   "execution_count": null,
   "metadata": {},
   "outputs": [],
   "source": [
    "# Try all different algorithmic methods to find an appropriate threshold\n",
    "fig, ax = filters.try_all_threshold(img, figsize=(12, 10), verbose=False)\n",
    "plt.show()"
   ]
  },
  {
   "cell_type": "code",
   "execution_count": null,
   "metadata": {},
   "outputs": [],
   "source": [
    "# Find a threshold with a specific algorithm\n",
    "threshold = filters.threshold_otsu(img)\n",
    "print('Threshold determined according to Otsu\\'s method: ', threshold)"
   ]
  },
  {
   "cell_type": "code",
   "execution_count": null,
   "metadata": {},
   "outputs": [],
   "source": []
  }
 ],
 "metadata": {
  "kernelspec": {
   "display_name": "Python 3",
   "language": "python",
   "name": "python3"
  },
  "language_info": {
   "codemirror_mode": {
    "name": "ipython",
    "version": 3
   },
   "file_extension": ".py",
   "mimetype": "text/x-python",
   "name": "python",
   "nbconvert_exporter": "python",
   "pygments_lexer": "ipython3",
   "version": "3.7.3"
  }
 },
 "nbformat": 4,
 "nbformat_minor": 2
}
