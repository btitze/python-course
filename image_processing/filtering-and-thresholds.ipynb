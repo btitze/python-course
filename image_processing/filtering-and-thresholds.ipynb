{
 "cells": [
  {
   "cell_type": "markdown",
   "metadata": {},
   "source": [
    "## Applying filters and thresholds with scikit-image"
   ]
  },
  {
   "cell_type": "code",
   "execution_count": 1,
   "metadata": {},
   "outputs": [],
   "source": [
    "from skimage import io, filters, color, util\n",
    "\n",
    "import matplotlib.pyplot as plt\n",
    "%matplotlib inline\n",
    "\n",
    "import numpy as np\n",
    "\n",
    "from IPython.display import Image   # Use Image() to show an image from a website in a Jupyter Notebook (see cell below)"
   ]
  },
  {
   "cell_type": "code",
   "execution_count": 2,
   "metadata": {},
   "outputs": [
    {
     "data": {
      "text/html": [
       "<img src=\"https://ars.els-cdn.com/content/image/3-s2.0-B978012387766600027X-f04-05-9780123877666.jpg\"/>"
      ],
      "text/plain": [
       "<IPython.core.display.Image object>"
      ]
     },
     "execution_count": 2,
     "metadata": {},
     "output_type": "execute_result"
    }
   ],
   "source": [
    "# Quick reminder how filters work\n",
    "Image(url='https://ars.els-cdn.com/content/image/3-s2.0-B978012387766600027X-f04-05-9780123877666.jpg')"
   ]
  },
  {
   "cell_type": "markdown",
   "metadata": {},
   "source": [
    "You can find an overview of all filters and threshold methods available in scikit-image here:\n",
    "https://scikit-image.org/docs/dev/api/skimage.filters "
   ]
  },
  {
   "cell_type": "code",
   "execution_count": null,
   "metadata": {},
   "outputs": [],
   "source": [
    "# Load the butterfly testimage and convert it to 8-bit greyscale\n",
    "img = util.img_as_ubyte(color.rgb2gray(io.imread('img\\monarch_testimage.png')))\n",
    "io.imshow(img)\n",
    "plt.show()\n",
    "# The two lines above do approximately the same as plt.imshow(img, cmap='gray')"
   ]
  },
  {
   "cell_type": "code",
   "execution_count": null,
   "metadata": {},
   "outputs": [],
   "source": [
    "# Gaussian filter (smoothing; removal of noise, but also of image detail)\n",
    "img_gauss = filters.gaussian(img, sigma=3)\n",
    "io.imshow(img_gauss)"
   ]
  },
  {
   "cell_type": "code",
   "execution_count": null,
   "metadata": {},
   "outputs": [],
   "source": [
    "# Sobel (emphasizes edges)\n",
    "img_edges = filters.sobel(img)\n",
    "io.imshow(img_edges)"
   ]
  },
  {
   "cell_type": "code",
   "execution_count": null,
   "metadata": {},
   "outputs": [],
   "source": [
    "# Add salt & pepper noise to the image\n",
    "img_with_noise = util.random_noise(img, mode='s&p')\n",
    "io.imshow(img_with_noise)"
   ]
  },
  {
   "cell_type": "code",
   "execution_count": null,
   "metadata": {},
   "outputs": [],
   "source": [
    "# Median filter is often a good choice to remove noise while preserving image details\n",
    "img_noise_removed = filters.median(img_with_noise)\n",
    "io.imshow(img_noise_removed)"
   ]
  },
  {
   "cell_type": "code",
   "execution_count": null,
   "metadata": {},
   "outputs": [],
   "source": [
    "# Thresholds are used to produce binary images.\n",
    "# We can set a threshold directly (result will be an array of booleans).\n",
    "img_thresholded = img > 120\n",
    "print(img_thresholded)    # False -> black pixels; True -> white pixels\n",
    "\n",
    "# Alternative: Use np.where() to set the target values below/above the threshold, e.g., 0 and 255\n",
    "# img_thresholded = np.where(img > 120, 0, 255)\n",
    "io.imshow(img_thresholded)\n",
    "plt.show()"
   ]
  },
  {
   "cell_type": "code",
   "execution_count": null,
   "metadata": {},
   "outputs": [],
   "source": [
    "# Try all available methods to find an appropriate threshold\n",
    "fig, ax = filters.try_all_threshold(img, figsize=(12, 10), verbose=False)\n",
    "plt.show()"
   ]
  },
  {
   "cell_type": "code",
   "execution_count": null,
   "metadata": {},
   "outputs": [],
   "source": [
    "# Find a threshold with a specific method\n",
    "threshold = filters.threshold_otsu(img)\n",
    "print('Threshold determined with Otsu\\'s method: ', threshold)"
   ]
  },
  {
   "cell_type": "code",
   "execution_count": null,
   "metadata": {},
   "outputs": [],
   "source": []
  }
 ],
 "metadata": {
  "kernelspec": {
   "display_name": "Python 3",
   "language": "python",
   "name": "python3"
  },
  "language_info": {
   "codemirror_mode": {
    "name": "ipython",
    "version": 3
   },
   "file_extension": ".py",
   "mimetype": "text/x-python",
   "name": "python",
   "nbconvert_exporter": "python",
   "pygments_lexer": "ipython3",
   "version": "3.7.3"
  }
 },
 "nbformat": 4,
 "nbformat_minor": 2
}
