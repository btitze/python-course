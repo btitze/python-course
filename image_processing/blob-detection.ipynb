{
 "cells": [
  {
   "cell_type": "markdown",
   "metadata": {},
   "source": [
    "## Blob detection in the Hubble Deep Field image"
   ]
  },
  {
   "cell_type": "code",
   "execution_count": null,
   "metadata": {},
   "outputs": [],
   "source": [
    "from skimage import data, util\n",
    "from skimage.feature import blob_log\n",
    "from skimage.color import rgb2gray\n",
    "\n",
    "import matplotlib.pyplot as plt\n",
    "%matplotlib inline\n",
    "\n",
    "from math import sqrt"
   ]
  },
  {
   "cell_type": "code",
   "execution_count": null,
   "metadata": {},
   "outputs": [],
   "source": [
    "# Load the example image 'Hubble Deep Field' from skimage.data and convert it to greyscale\n",
    "image = data.hubble_deep_field()\n",
    "\n",
    "print('Original image: ', image.shape, image.dtype)\n",
    "image_greyscale = util.img_as_ubyte(rgb2gray(image))  # Use util.img_as_ubyte() to convert float to unsigned bytes\n",
    "print('Greyscale image: ', image_greyscale.shape, image_greyscale.dtype)"
   ]
  },
  {
   "cell_type": "code",
   "execution_count": null,
   "metadata": {},
   "outputs": [],
   "source": [
    "# Show the original and the greyscale image\n",
    "fig, ax = plt.subplots(2, 1, figsize=(8, 14))\n",
    "ax[0].imshow(image)\n",
    "ax[0].set_title('Original')\n",
    "ax[1].imshow(image_greyscale, cmap='gray')\n",
    "ax[1].set_title('Greyscale')\n",
    "fig.tight_layout()\n",
    "plt.show()"
   ]
  },
  {
   "cell_type": "code",
   "execution_count": null,
   "metadata": {},
   "outputs": [],
   "source": [
    "# Specify the detection region with offsets and width, height\n",
    "offset_x = 200\n",
    "offset_y = 200\n",
    "width = 450\n",
    "height = 450\n",
    "# Crop the image with slicing\n",
    "detection_region = image_greyscale[offset_x:(offset_x + width), offset_y:(offset_y + height)]"
   ]
  },
  {
   "cell_type": "code",
   "execution_count": null,
   "metadata": {},
   "outputs": [],
   "source": [
    "# The blob detection function below uses the Laplacian of Gaussian (LOG) method. Alternatives to blob_log are \n",
    "# blob_dog and blob_doh. See: https://scikit-image.org/docs/dev/auto_examples/features_detection/plot_blob.html\n",
    "\n",
    "# By changing min_sigma and max_sigma you can change the size range of objects that will be detected. \n",
    "# The detection threshold is set with 'threshold'.\n",
    "detected_blobs = blob_log(detection_region, min_sigma=1, max_sigma=30, threshold=0.1)"
   ]
  },
  {
   "cell_type": "code",
   "execution_count": null,
   "metadata": {},
   "outputs": [],
   "source": [
    "# The blob_log() function returns a NumPy array that contains a (y, x) coordinate and sigma for each entry\n",
    "print(type(detected_blobs))\n",
    "print('First entry: ', detected_blobs[0])"
   ]
  },
  {
   "cell_type": "code",
   "execution_count": null,
   "metadata": {},
   "outputs": [],
   "source": [
    "# Compute radius from sigma (needed to show circles around the detected blobs, see below)\n",
    "detected_blobs[:, 2] *= sqrt(2)"
   ]
  },
  {
   "cell_type": "code",
   "execution_count": null,
   "metadata": {},
   "outputs": [],
   "source": [
    "# Show the positions of detected objects\n",
    "fig, ax = plt.subplots(figsize=(14, 14))\n",
    "ax.imshow(image_greyscale, cmap='gray')\n",
    "\n",
    "for blob in detected_blobs:\n",
    "    y, x, radius = blob\n",
    "    # Paint circles over the greyscale image at the detected position\n",
    "    ax.add_patch(\n",
    "        plt.Circle((offset_x + x, offset_y + y), radius, color='r', linewidth=1, fill=False))\n",
    "plt.show()"
   ]
  }
 ],
 "metadata": {
  "kernelspec": {
   "display_name": "Python 3",
   "language": "python",
   "name": "python3"
  },
  "language_info": {
   "codemirror_mode": {
    "name": "ipython",
    "version": 3
   },
   "file_extension": ".py",
   "mimetype": "text/x-python",
   "name": "python",
   "nbconvert_exporter": "python",
   "pygments_lexer": "ipython3",
   "version": "3.7.3"
  }
 },
 "nbformat": 4,
 "nbformat_minor": 2
}
