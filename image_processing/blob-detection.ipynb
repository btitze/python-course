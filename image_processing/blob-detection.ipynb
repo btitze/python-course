{
 "cells": [
  {
   "cell_type": "markdown",
   "metadata": {},
   "source": [
    "## Blob detection in the Hubble Deep Field image"
   ]
  },
  {
   "cell_type": "code",
   "execution_count": null,
   "metadata": {},
   "outputs": [],
   "source": [
    "from math import sqrt\n",
    "from skimage import data\n",
    "from skimage.feature import blob_log\n",
    "from skimage.color import rgb2gray\n",
    "\n",
    "import matplotlib.pyplot as plt\n",
    "%matplotlib inline"
   ]
  },
  {
   "cell_type": "code",
   "execution_count": null,
   "metadata": {},
   "outputs": [],
   "source": [
    "# Load the example image 'Hubble Deep Field' from skimage.data and convert it to greyscale\n",
    "image = data.hubble_deep_field()\n",
    "print(image.shape, image.dtype)\n",
    "image_greyscale = rgb2gray(image)\n",
    "\n",
    "fig, ax = plt.subplots(2, 1, figsize=(12, 18))\n",
    "ax[0].imshow(image)\n",
    "ax[1].imshow(image_greyscale, cmap='gray')"
   ]
  },
  {
   "cell_type": "code",
   "execution_count": null,
   "metadata": {},
   "outputs": [],
   "source": [
    "# Detect blobs in the image in the region specified by the offsets and width, height\n",
    "offset_x = 200\n",
    "offset_y = 200\n",
    "width = 400\n",
    "height = 400\n",
    "detection_region = image_greyscale[offset_x:(offset_x + width), offset_y:(offset_y + height)]"
   ]
  },
  {
   "cell_type": "code",
   "execution_count": null,
   "metadata": {},
   "outputs": [],
   "source": [
    "# The detection function uses the Laplacian of Gaussian (LOG) method. Alternatives to blob_log are blob_dog and blob_doh\n",
    "# By changing min_sigma and max_sigma you can change the size range of objects that will be detected. \n",
    "# The detection threshold is set with threshold\n",
    "detected_blobs = blob_log(detection_region, min_sigma=1, max_sigma=30, threshold=0.1)\n",
    "# The blob_log() function returns a NumPy array that contains a (y, x) coordinate and sigma for each entry:\n",
    "print(type(detected_blobs))\n",
    "print('First entry: ', detected_blobs[0])"
   ]
  },
  {
   "cell_type": "code",
   "execution_count": null,
   "metadata": {},
   "outputs": [],
   "source": [
    "# Compute radius from sigma:\n",
    "detected_blobs[:, 2] *= sqrt(2)"
   ]
  },
  {
   "cell_type": "code",
   "execution_count": null,
   "metadata": {},
   "outputs": [],
   "source": [
    "# Show the positions of detected objects\n",
    "fig, ax = plt.subplots(figsize=(14, 14))\n",
    "ax.imshow(image_greyscale, cmap='gray')\n",
    "for blob in detected_blobs:\n",
    "    y, x, radius = blob\n",
    "    # Paint circles over the greyscale image at the detected position\n",
    "    ax.add_patch(\n",
    "        plt.Circle((offset_x + x, offset_y + y), radius, color='r', linewidth=1, fill=False))\n",
    "plt.show()"
   ]
  },
  {
   "cell_type": "code",
   "execution_count": null,
   "metadata": {},
   "outputs": [],
   "source": []
  }
 ],
 "metadata": {
  "kernelspec": {
   "display_name": "Python 3",
   "language": "python",
   "name": "python3"
  },
  "language_info": {
   "codemirror_mode": {
    "name": "ipython",
    "version": 3
   },
   "file_extension": ".py",
   "mimetype": "text/x-python",
   "name": "python",
   "nbconvert_exporter": "python",
   "pygments_lexer": "ipython3",
   "version": "3.7.3"
  }
 },
 "nbformat": 4,
 "nbformat_minor": 2
}
