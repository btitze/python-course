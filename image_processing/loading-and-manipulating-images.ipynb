{
 "cells": [
  {
   "cell_type": "markdown",
   "metadata": {},
   "source": [
    "## Loading and manipulating images with pillow (PIL)"
   ]
  },
  {
   "cell_type": "code",
   "execution_count": null,
   "metadata": {},
   "outputs": [],
   "source": [
    "# In this notebook, we'll use pillow (PIL) to load and manipulate images.\n",
    "# Full documentation: https://pillow.readthedocs.io\n",
    "from PIL import Image\n",
    "\n",
    "# We'll use NumPy to convert PIL images to NumPy arrays\n",
    "import numpy as np\n",
    "\n",
    "# Use display() to show PIL images in the Jupyter Notebook\n",
    "from IPython.display import display"
   ]
  },
  {
   "cell_type": "code",
   "execution_count": null,
   "metadata": {},
   "outputs": [],
   "source": [
    "# Let's load and display our first image (a Monarch butterfly, https://en.wikipedia.org/wiki/Monarch_butterfly)\n",
    "my_image = Image.open('img\\\\monarch_testimage.png')\n",
    "# You may have to change the path above for your system\n",
    "display(my_image)"
   ]
  },
  {
   "cell_type": "code",
   "execution_count": null,
   "metadata": {},
   "outputs": [],
   "source": [
    "# Show basic information about the image\n",
    "print(f'Loaded image:\\n'\n",
    "      f'Format: {my_image.format}\\n'\n",
    "      f'Size: {my_image.size}\\n'\n",
    "      f'Mode: {my_image.mode}')"
   ]
  },
  {
   "cell_type": "code",
   "execution_count": null,
   "metadata": {},
   "outputs": [],
   "source": [
    "# To crop the image, first define a bounding box: Its first two values are the X/Y coordinates of the upper left \n",
    "# point of the box, the second two are the X/Y of the lower right point of the box. \n",
    "# The origin of the whole image is at 0/0 (upper left corner).  \n",
    "bounding_box = (100, 100, 250, 250)    \n",
    "cropped_image = my_image.crop(bounding_box)\n",
    "display(cropped_image)"
   ]
  },
  {
   "cell_type": "code",
   "execution_count": null,
   "metadata": {},
   "outputs": [],
   "source": [
    "# Save the cropped image to a new file\n",
    "cropped_image.save('img\\\\monarch_testimage_cropped.png')"
   ]
  },
  {
   "cell_type": "code",
   "execution_count": null,
   "metadata": {},
   "outputs": [],
   "source": [
    "# Save images in different file formats\n",
    "cropped_image.save('img\\\\monarch_testimage_cropped.tif')\n",
    "cropped_image.save('img\\\\monarch_testimage_cropped.jpg')\n",
    "cropped_image.save('img\\\\monarch_testimage_cropped.bmp')"
   ]
  },
  {
   "cell_type": "code",
   "execution_count": null,
   "metadata": {},
   "outputs": [],
   "source": [
    "# Splitting and merging channels\n",
    "red, green, blue = cropped_image.split()\n",
    "display(red)\n",
    "display(green)\n",
    "display(blue)\n",
    "# Recombine the channels. Let's try a different order (GRB)\n",
    "recombined = Image.merge('RGB', (green, red, blue))\n",
    "display(recombined)"
   ]
  },
  {
   "cell_type": "code",
   "execution_count": null,
   "metadata": {},
   "outputs": [],
   "source": [
    "# Transform the image\n",
    "display(cropped_image.resize((80, 80)))    # bicubic resampling by default\n",
    "display(cropped_image.rotate(90))          # degrees anticlockwise\n",
    "display(cropped_image.transpose(Image.FLIP_LEFT_RIGHT))"
   ]
  },
  {
   "cell_type": "code",
   "execution_count": null,
   "metadata": {},
   "outputs": [],
   "source": [
    "# Convert to greyscale image\n",
    "greyscale_image = cropped_image.convert('L')\n",
    "display(greyscale_image)"
   ]
  },
  {
   "cell_type": "code",
   "execution_count": null,
   "metadata": {},
   "outputs": [],
   "source": [
    "# Pixel-based manipulation: lambda function is applied to all pixels in the image\n",
    "display(greyscale_image.point(lambda i: i * 1.7))\n",
    "# The lambda function can be used as a mask\n",
    "display(greyscale_image.point(lambda i: 255 if i < 150 else 0))"
   ]
  },
  {
   "cell_type": "code",
   "execution_count": null,
   "metadata": {},
   "outputs": [],
   "source": [
    "# What type is an image loaded with PIL?\n",
    "print(type(my_image))\n",
    "\n",
    "# Convert PIL image to NumPy array\n",
    "my_image_np = np.asarray(my_image)\n",
    "print(type(my_image_np))\n",
    "print(my_image_np.shape)\n",
    "\n",
    "# Converting back to PIL image\n",
    "my_image = Image.fromarray(my_image_np)"
   ]
  },
  {
   "cell_type": "code",
   "execution_count": null,
   "metadata": {},
   "outputs": [],
   "source": [
    "# Note that in NumPy, rows are first, then columns, which means image coordinates are provided as (y, x)\n",
    "cropped = my_image_np[300:350, 300:400]\n",
    "display(Image.fromarray(cropped))"
   ]
  },
  {
   "cell_type": "code",
   "execution_count": null,
   "metadata": {},
   "outputs": [],
   "source": []
  }
 ],
 "metadata": {
  "kernelspec": {
   "display_name": "Python 3",
   "language": "python",
   "name": "python3"
  },
  "language_info": {
   "codemirror_mode": {
    "name": "ipython",
    "version": 3
   },
   "file_extension": ".py",
   "mimetype": "text/x-python",
   "name": "python",
   "nbconvert_exporter": "python",
   "pygments_lexer": "ipython3",
   "version": "3.7.3"
  }
 },
 "nbformat": 4,
 "nbformat_minor": 2
}
