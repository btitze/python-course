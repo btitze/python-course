{
 "cells": [
  {
   "cell_type": "markdown",
   "metadata": {},
   "source": [
    "## Segmentation example (nuclear division time series)"
   ]
  },
  {
   "cell_type": "code",
   "execution_count": null,
   "metadata": {},
   "outputs": [],
   "source": [
    "from skimage import io, filters, measure, color, morphology \n",
    "from scipy import ndimage\n",
    "import matplotlib.pyplot as plt\n",
    "%matplotlib inline\n",
    "import numpy as np"
   ]
  },
  {
   "cell_type": "code",
   "execution_count": null,
   "metadata": {},
   "outputs": [],
   "source": [
    "# Read the first tiff stack (Nucseq001.tif)\n",
    "# These example images are from http://cmci.embl.de\n",
    "img_stack = io.imread('Nucseq001.tif')\n",
    "print(img_stack.shape)\n",
    "number_slices = img_stack.shape[0]\n",
    "print(f'Time series with {number_slices} slices')"
   ]
  },
  {
   "cell_type": "code",
   "execution_count": null,
   "metadata": {},
   "outputs": [],
   "source": [
    "# Show slice number 23:\n",
    "plt.imshow(img_stack[23], cmap='gray')"
   ]
  },
  {
   "cell_type": "code",
   "execution_count": null,
   "metadata": {},
   "outputs": [],
   "source": [
    "# Let's threshold the image. What's a suitable threshold?\n",
    "fig, ax = filters.try_all_threshold(img_stack[23], figsize=(12, 10), verbose=False)\n",
    "plt.show()"
   ]
  },
  {
   "cell_type": "code",
   "execution_count": null,
   "metadata": {},
   "outputs": [],
   "source": [
    "# Also available: local/adaptive thresholding (you can try this)\n",
    "# local_threshold = filters.threshold_local(img_stack[0], block_size=1, offset=10)\n",
    "# binary_img = img_stack[0] > threshold\n",
    "# plt.imshow(binary_img)"
   ]
  },
  {
   "cell_type": "code",
   "execution_count": null,
   "metadata": {},
   "outputs": [],
   "source": [
    "# Make a copy to store the binary images and keep the original greyscale images\n",
    "img_stack_binary = np.copy(img_stack)"
   ]
  },
  {
   "cell_type": "code",
   "execution_count": null,
   "metadata": {},
   "outputs": [],
   "source": [
    "# Let's use the Triangle alogrithm for this example\n",
    "for i in range(number_slices):\n",
    "    # Find the threshold for each individual slice\n",
    "    threshold = filters.threshold_triangle(img_stack[i])\n",
    "    img_stack_binary[i] = img_stack[i] > threshold\n",
    "    # Also perform binary erosion\n",
    "    img_stack_binary[i] = morphology.binary_erosion(img_stack_binary[i])"
   ]
  },
  {
   "cell_type": "code",
   "execution_count": null,
   "metadata": {},
   "outputs": [],
   "source": [
    "plt.imshow(img_stack_binary[23], cmap='binary')"
   ]
  },
  {
   "cell_type": "code",
   "execution_count": null,
   "metadata": {},
   "outputs": [],
   "source": [
    "# With ndimage.label we obtain labels of all connected components in the binary image.\n",
    "img_labels = {}   # empty dictionary\n",
    "for i in range(number_slices):\n",
    "    img_labels[i] = ndimage.label(img_stack_binary[i]) \n",
    "# This gives us a dictionary that contains the labelled images and number of labelled objects for each slice"
   ]
  },
  {
   "cell_type": "code",
   "execution_count": null,
   "metadata": {},
   "outputs": [],
   "source": [
    "# The returned images have the same dimension as the original images, but each pixel intensity is replaced by the label index\n",
    "print(img_labels[23])\n",
    "print('Unique labels in slice 23 (0 is background): ', np.unique(img_labels[23][0]))"
   ]
  },
  {
   "cell_type": "code",
   "execution_count": null,
   "metadata": {},
   "outputs": [],
   "source": [
    "# Show the labels over the original greyscale image for slice 23\n",
    "img_label_overlay = color.label2rgb(img_labels[23][0], image=img_stack[23], bg_label=0)\n",
    "fig, ax = plt.subplots(figsize=(10, 10))\n",
    "ax.imshow(img_label_overlay)"
   ]
  },
  {
   "cell_type": "code",
   "execution_count": null,
   "metadata": {},
   "outputs": [],
   "source": [
    "# The function measure.regionprops calculates properties of the labelled regions.\n",
    "label_properties = {}\n",
    "for i in range(number_slices):\n",
    "    label_properties[i] = measure.regionprops(img_labels[i][0])"
   ]
  },
  {
   "cell_type": "code",
   "execution_count": null,
   "metadata": {},
   "outputs": [],
   "source": [
    "# For example, let's look at the centroid coordinates and the areas of all labels in slice 23\n",
    "# Many more attributes can be accessed, see: \n",
    "# https://scikit-image.org/docs/dev/api/skimage.measure.html#skimage.measure.regionprops\n",
    "\n",
    "for label in label_properties[23]:\n",
    "    print(f'The label at centroid coordinates {label.centroid} has an area of {label.area} pixels')"
   ]
  },
  {
   "cell_type": "code",
   "execution_count": null,
   "metadata": {},
   "outputs": [],
   "source": [
    "# How many nuclei are there per slice? How does that number change over time?\n",
    "cell_count_per_slice = []\n",
    "\n",
    "for i in range(number_slices):\n",
    "    cell_counter = 0\n",
    "    for label in label_properties[i]:\n",
    "        # Only count label if its area is larger than 20 pixels:\n",
    "        if label.area > 20:\n",
    "            cell_counter += 1\n",
    "    cell_count_per_slice.append(cell_counter)\n",
    "    \n",
    "cell_count_per_slice"
   ]
  },
  {
   "cell_type": "code",
   "execution_count": null,
   "metadata": {},
   "outputs": [],
   "source": [
    "# Let's plot that\n",
    "x = np.arange(number_slices)\n",
    "y = cell_count_per_slice\n",
    "plt.plot(x, y)\n",
    "plt.show()"
   ]
  },
  {
   "cell_type": "code",
   "execution_count": null,
   "metadata": {},
   "outputs": [],
   "source": []
  }
 ],
 "metadata": {
  "kernelspec": {
   "display_name": "Python 3",
   "language": "python",
   "name": "python3"
  },
  "language_info": {
   "codemirror_mode": {
    "name": "ipython",
    "version": 3
   },
   "file_extension": ".py",
   "mimetype": "text/x-python",
   "name": "python",
   "nbconvert_exporter": "python",
   "pygments_lexer": "ipython3",
   "version": "3.7.3"
  }
 },
 "nbformat": 4,
 "nbformat_minor": 2
}
