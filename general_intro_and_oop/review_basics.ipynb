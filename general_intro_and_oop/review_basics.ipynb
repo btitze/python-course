{
 "cells": [
  {
   "cell_type": "code",
   "execution_count": null,
   "metadata": {},
   "outputs": [],
   "source": [
    "# A short program to review basic Python functionality.\n",
    "# Task: Ask the user for his/her first name and his/her age.\n",
    "# Greet the user and let him/her know if the name is a palindrome and if the age is a prime number.\n",
    "\n",
    "# We use this function to test if a number is a prime number (return True in that case, otherwise False)\n",
    "def is_prime(number):\n",
    "    if number > 1:\n",
    "        # Check if the number can be divided without remainder:\n",
    "        # (Only necessary to check until the square root of the number (**0.5))\n",
    "        for i in range(2, round(number**0.5) + 1):\n",
    "            if number % i == 0:\n",
    "                # If number is divisible, it's not a prime number\n",
    "                return False\n",
    "        # The for loop has run through - if the functions hasn't returned False at this point,\n",
    "        # the number must be a prime number.\n",
    "        return True\n",
    "    else:\n",
    "        # 0, 1 and negative numbers are not prime numbers\n",
    "        return False"
   ]
  },
  {
   "cell_type": "code",
   "execution_count": null,
   "metadata": {},
   "outputs": [],
   "source": [
    "# We use the following function to test if a given string (the user name in our case) is a palindrome\n",
    "def is_palindrome(input_string):\n",
    "    # input_string[::-1] is the reverse of the string (achieved through slicing)\n",
    "    return input_string == input_string[::-1]"
   ]
  },
  {
   "cell_type": "code",
   "execution_count": null,
   "metadata": {},
   "outputs": [],
   "source": [
    "# Get the user name as a string, and the age as an integer\n",
    "name = input('What is your first name? ')\n",
    "age = int(input('What is your age? '))\n",
    "\n",
    "# Greet the user\n",
    "print('Hello, ' + name + '!')\n",
    "\n",
    "# Let the user know the results of our tests\n",
    "if is_palindrome(name.lower()):   # Test only lowercase version (.lower())\n",
    "    print('Your name is a palindrome!')\n",
    "else:\n",
    "    print('Your name is not a palindrome.')\n",
    "    \n",
    "if is_prime(age):\n",
    "    print('Your age is a prime number!')\n",
    "else:\n",
    "    print('Your age is not a prime number.')"
   ]
  },
  {
   "cell_type": "code",
   "execution_count": null,
   "metadata": {},
   "outputs": [],
   "source": []
  }
 ],
 "metadata": {
  "kernelspec": {
   "display_name": "Python 3",
   "language": "python",
   "name": "python3"
  },
  "language_info": {
   "codemirror_mode": {
    "name": "ipython",
    "version": 3
   },
   "file_extension": ".py",
   "mimetype": "text/x-python",
   "name": "python",
   "nbconvert_exporter": "python",
   "pygments_lexer": "ipython3",
   "version": "3.7.3"
  }
 },
 "nbformat": 4,
 "nbformat_minor": 2
}
