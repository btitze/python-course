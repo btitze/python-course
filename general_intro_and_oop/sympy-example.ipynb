{
 "cells": [
  {
   "cell_type": "code",
   "execution_count": 1,
   "metadata": {},
   "outputs": [],
   "source": [
    "import sympy\n",
    "import math"
   ]
  },
  {
   "cell_type": "code",
   "execution_count": 2,
   "metadata": {},
   "outputs": [
    {
     "name": "stdout",
     "output_type": "stream",
     "text": [
      "1.7320508075688772\n",
      "sqrt(3)\n",
      "2*sqrt(2)\n"
     ]
    }
   ],
   "source": [
    "# Arithmetic vs symbolic:\n",
    "print(math.sqrt(3))\n",
    "print(sympy.sqrt(3))\n",
    "print(sympy.sqrt(8))"
   ]
  },
  {
   "cell_type": "code",
   "execution_count": 3,
   "metadata": {},
   "outputs": [
    {
     "data": {
      "text/plain": [
       "x**2 - 4*y"
      ]
     },
     "execution_count": 3,
     "metadata": {},
     "output_type": "execute_result"
    }
   ],
   "source": [
    "# Creating symbolic expressions:\n",
    "x, y = sympy.symbols('x y')\n",
    "expr1 = x**2 - 4 * y\n",
    "expr1"
   ]
  },
  {
   "cell_type": "code",
   "execution_count": 4,
   "metadata": {},
   "outputs": [
    {
     "data": {
      "text/plain": [
       "x*(x**2 - 4*y)"
      ]
     },
     "execution_count": 4,
     "metadata": {},
     "output_type": "execute_result"
    }
   ],
   "source": [
    "expr2 = expr1 * x\n",
    "expr2"
   ]
  },
  {
   "cell_type": "code",
   "execution_count": 5,
   "metadata": {},
   "outputs": [
    {
     "data": {
      "text/plain": [
       "x**3 - 4*x*y"
      ]
     },
     "execution_count": 5,
     "metadata": {},
     "output_type": "execute_result"
    }
   ],
   "source": [
    "# Expanding the previous expression:\n",
    "sympy.expand(expr2)"
   ]
  },
  {
   "cell_type": "code",
   "execution_count": 6,
   "metadata": {},
   "outputs": [
    {
     "data": {
      "text/plain": [
       "a**2 - b**2"
      ]
     },
     "execution_count": 6,
     "metadata": {},
     "output_type": "execute_result"
    }
   ],
   "source": [
    "a, b = sympy.symbols('a b')\n",
    "expr3 = a**2 - b**2 \n",
    "expr3"
   ]
  },
  {
   "cell_type": "code",
   "execution_count": 7,
   "metadata": {},
   "outputs": [
    {
     "data": {
      "text/plain": [
       "(a - b)*(a + b)"
      ]
     },
     "execution_count": 7,
     "metadata": {},
     "output_type": "execute_result"
    }
   ],
   "source": [
    "sympy.factor(expr3)"
   ]
  },
  {
   "cell_type": "code",
   "execution_count": 8,
   "metadata": {},
   "outputs": [],
   "source": [
    "# Prettier printing:\n",
    "sympy.init_printing(use_unicode=True)"
   ]
  },
  {
   "cell_type": "code",
   "execution_count": 9,
   "metadata": {},
   "outputs": [
    {
     "name": "stdout",
     "output_type": "stream",
     "text": [
      "exp(x)*sin(x) + exp(x)*cos(x)\n"
     ]
    },
    {
     "data": {
      "text/plain": [
       "'e^{x} \\\\sin{\\\\left (x \\\\right )} + e^{x} \\\\cos{\\\\left (x \\\\right )}'"
      ]
     },
     "execution_count": 9,
     "metadata": {},
     "output_type": "execute_result"
    }
   ],
   "source": [
    "print(sympy.diff(sympy.sin(x) * sympy.exp(x), x))\n",
    "# Convert it into latex code:\n",
    "sympy.latex(sympy.diff(sympy.sin(x) * sympy.exp(x), x))"
   ]
  },
  {
   "cell_type": "code",
   "execution_count": 10,
   "metadata": {},
   "outputs": [
    {
     "data": {
      "image/png": "[encoded data removed]",
      "text/latex": [
       "$$\\frac{\\sqrt{2} \\sqrt{\\pi}}{2}$$"
      ],
      "text/plain": [
       "√2⋅√π\n",
       "─────\n",
       "  2  "
      ]
     },
     "execution_count": 10,
     "metadata": {},
     "output_type": "execute_result"
    }
   ],
   "source": [
    "sympy.integrate(sympy.sin(x**2), (x, -sympy.oo, sympy.oo))"
   ]
  },
  {
   "cell_type": "code",
   "execution_count": 11,
   "metadata": {},
   "outputs": [
    {
     "data": {
      "image/png": "[encoded data removed]",
      "text/latex": [
       "$$\\left [ -2 + 2 \\sqrt{2}, \\quad - 2 \\sqrt{2} - 2\\right ]$$"
      ],
      "text/plain": [
       "[-2 + 2⋅√2, -2⋅√2 - 2]"
      ]
     },
     "execution_count": 11,
     "metadata": {},
     "output_type": "execute_result"
    }
   ],
   "source": [
    "sympy.solve(x**2 + 4*x - 4, x)"
   ]
  },
  {
   "cell_type": "code",
   "execution_count": 12,
   "metadata": {},
   "outputs": [
    {
     "data": {
      "image/png": "[encoded data removed]",
      "text/latex": [
       "$$4 \\sum_{k=1}^{n} \\frac{\\left(-1\\right)^{k + 1}}{2 k + 1}$$"
      ],
      "text/plain": [
       "    n            \n",
       "   ____          \n",
       "   ╲             \n",
       "    ╲       k + 1\n",
       "     ╲  (-1)     \n",
       "4⋅   ╱  ─────────\n",
       "    ╱    2⋅k + 1 \n",
       "   ╱             \n",
       "   ‾‾‾‾          \n",
       "  k = 1          "
      ]
     },
     "execution_count": 12,
     "metadata": {},
     "output_type": "execute_result"
    }
   ],
   "source": [
    "n, k = sympy.symbols('n k')\n",
    "expr4 = 4 * sympy.Sum((-1)**(k + 1) / (2 * k + 1), (k, 1, n))\n",
    "expr4"
   ]
  },
  {
   "cell_type": "code",
   "execution_count": null,
   "metadata": {},
   "outputs": [],
   "source": []
  }
 ],
 "metadata": {
  "kernelspec": {
   "display_name": "Python 3",
   "language": "python",
   "name": "python3"
  },
  "language_info": {
   "codemirror_mode": {
    "name": "ipython",
    "version": 3
   },
   "file_extension": ".py",
   "mimetype": "text/x-python",
   "name": "python",
   "nbconvert_exporter": "python",
   "pygments_lexer": "ipython3",
   "version": "3.7.3"
  }
 },
 "nbformat": 4,
 "nbformat_minor": 2
}
