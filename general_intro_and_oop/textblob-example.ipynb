{
 "cells": [
  {
   "cell_type": "code",
   "execution_count": null,
   "metadata": {},
   "outputs": [],
   "source": [
    "from textblob import TextBlob, Word\n",
    "from nltk.corpus import treebank\n",
    "import nltk"
   ]
  },
  {
   "cell_type": "code",
   "execution_count": null,
   "metadata": {},
   "outputs": [],
   "source": [
    "# Start with any text\n",
    "my_text = ('Hello, my name is Friedrich Miescher. '\n",
    "           'I discovered DNA in a laboratory in Tübingen in 1869. '\n",
    "           'I love science. '\n",
    "           'I hate spiders.\\n')   # Not sure if the last statement is true for Miescher, just testing ;)\n",
    "\n",
    "# blob (or any other name) is our TextBlob object\n",
    "blob = TextBlob(my_text)\n",
    "print(blob)\n",
    "# Show POS (part of speech) tag for linguistic analysis\n",
    "print(blob.tags)\n",
    "print(blob.noun_phrases)\n",
    "\n",
    "# Show the sentiment of the two sentences (positive, negative)\n",
    "print('\\nSentiment analysis:\\n')\n",
    "for sentence in blob.sentences:\n",
    "    print(sentence, sentence.sentiment.polarity)"
   ]
  },
  {
   "cell_type": "code",
   "execution_count": null,
   "metadata": {},
   "outputs": [],
   "source": [
    "nltk.set_proxy('SET PROXY SERVER AND PORT HERE')   # We need this to make it work from the FMI network.\n",
    "\n",
    "# Translate to other languages\n",
    "print(blob.translate(to='es'))\n",
    "print(blob.translate(to='de'))\n",
    "print(blob.translate(to='it'))"
   ]
  },
  {
   "cell_type": "code",
   "execution_count": null,
   "metadata": {},
   "outputs": [],
   "source": [
    "# Another example\n",
    "zen = TextBlob('Explicit is better than implicit. '\n",
    "               'Simple is better than complex. ')\n",
    "\n",
    "print(zen.words)\n",
    "print(zen.sentences)\n",
    "\n",
    "for sentence in zen.sentences:\n",
    "    print('Polarity: ', sentence.sentiment.polarity, ' Subjectivity: ', sentence.sentiment.subjectivity)"
   ]
  },
  {
   "cell_type": "code",
   "execution_count": null,
   "metadata": {},
   "outputs": [],
   "source": [
    "# Grammatical manipulation\n",
    "blob = TextBlob('goose')\n",
    "print(blob.words[0].pluralize())\n",
    "\n",
    "my_word = Word('children')\n",
    "print(my_word.lemmatize())\n",
    "\n",
    "my_word = Word('were')\n",
    "print(my_word.lemmatize('v'))"
   ]
  },
  {
   "cell_type": "code",
   "execution_count": null,
   "metadata": {},
   "outputs": [],
   "source": [
    "# Show definitions of words\n",
    "print(Word('scientist').definitions)\n",
    "\n",
    "# Correct spelling\n",
    "b = TextBlob('I havv goood speling!')\n",
    "print(b.correct())\n",
    "\n",
    "# Detect the language\n",
    "b = TextBlob('Ich heisse Peter.')\n",
    "print(b.detect_language())\n",
    "\n",
    "# You can access large corpora of texts, for example the first words of Genesis\n",
    "print(nltk.corpus.genesis.words())\n",
    "\n",
    "# The following are examples of parsing sentences and displaying their structure visually.\n",
    "# IMPORTANT: Several pop-up windows will open to show the visual output. You'll have to close them one by one to proceed.\n",
    "t = treebank.parsed_sents('wsj_0001.mrg')[0]\n",
    "t.draw()\n",
    "\n",
    "groucho_grammar = nltk.CFG.fromstring(\"\"\"\n",
    "    S -> NP VP\n",
    "    PP -> P NP\n",
    "    NP -> Det N | Det N PP | 'I'\n",
    "    VP -> V NP | VP PP\n",
    "    Det -> 'an' | 'my'\n",
    "    N -> 'elephant' | 'pajamas'\n",
    "    V -> 'shot'\n",
    "    P -> 'in'\n",
    "    \"\"\")\n",
    "\n",
    "sentence = ['I', 'shot', 'an', 'elephant', 'in', 'my', 'pajamas']\n",
    "parser = nltk.ChartParser(groucho_grammar)\n",
    "for tree in parser.parse(sentence):\n",
    "    print(tree)\n",
    "    tree.draw()"
   ]
  },
  {
   "cell_type": "code",
   "execution_count": null,
   "metadata": {},
   "outputs": [],
   "source": []
  }
 ],
 "metadata": {
  "kernelspec": {
   "display_name": "Python 3",
   "language": "python",
   "name": "python3"
  },
  "language_info": {
   "codemirror_mode": {
    "name": "ipython",
    "version": 3
   },
   "file_extension": ".py",
   "mimetype": "text/x-python",
   "name": "python",
   "nbconvert_exporter": "python",
   "pygments_lexer": "ipython3",
   "version": "3.7.3"
  }
 },
 "nbformat": 4,
 "nbformat_minor": 2
}
